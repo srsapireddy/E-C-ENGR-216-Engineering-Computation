{
  "nbformat": 4,
  "nbformat_minor": 0,
  "metadata": {
    "colab": {
      "provenance": []
    },
    "kernelspec": {
      "name": "python3",
      "display_name": "Python 3"
    },
    "language_info": {
      "name": "python"
    }
  },
  "cells": [
    {
      "cell_type": "markdown",
      "source": [
        "Functions are reusable block of code"
      ],
      "metadata": {
        "id": "irQaeUQ1AweE"
      }
    },
    {
      "cell_type": "code",
      "execution_count": 1,
      "metadata": {
        "colab": {
          "base_uri": "https://localhost:8080/"
        },
        "id": "5WHFBfU6_BVt",
        "outputId": "2bb391b9-a107-47be-8195-025a58319939"
      },
      "outputs": [
        {
          "output_type": "stream",
          "name": "stdout",
          "text": [
            "Hello world!\n"
          ]
        }
      ],
      "source": [
        "def hello():\n",
        "  print(\"Hello world!\")\n",
        "\n",
        "hello()"
      ]
    },
    {
      "cell_type": "markdown",
      "source": [
        "Naming functions"
      ],
      "metadata": {
        "id": "JCXIjaL9BEqY"
      }
    },
    {
      "cell_type": "code",
      "source": [
        "def hello_world():\n",
        "  print(\"Hello world!\")\n",
        "\n",
        "hello_world()"
      ],
      "metadata": {
        "colab": {
          "base_uri": "https://localhost:8080/"
        },
        "id": "YlHZ4xemBCLi",
        "outputId": "9ab5abba-70c5-4b85-bc22-e91819eefd1b"
      },
      "execution_count": 2,
      "outputs": [
        {
          "output_type": "stream",
          "name": "stdout",
          "text": [
            "Hello world!\n"
          ]
        }
      ]
    },
    {
      "cell_type": "markdown",
      "source": [
        "Parameters and Arguments"
      ],
      "metadata": {
        "id": "ip1EI54hBQzC"
      }
    },
    {
      "cell_type": "code",
      "source": [
        "# Sometimes functions need to receive data. We can use placeholders for this data. These placeholders are called parameters.\n",
        "def sum(num1, num2):\n",
        "  print(num1 + num2)\n",
        "\n",
        "sum(2,3) # Arguments taht you pass in\n",
        "# Arguments can change with every function calls\n",
        "sum(1,7)\n",
        "sum(100,3)"
      ],
      "metadata": {
        "colab": {
          "base_uri": "https://localhost:8080/"
        },
        "id": "N8DY4vCGBNVX",
        "outputId": "0bac4ff1-0a5b-4380-ef4e-bf218f95d113"
      },
      "execution_count": 6,
      "outputs": [
        {
          "output_type": "stream",
          "name": "stdout",
          "text": [
            "5\n",
            "8\n",
            "103\n"
          ]
        }
      ]
    },
    {
      "cell_type": "markdown",
      "source": [
        "Return Keyword"
      ],
      "metadata": {
        "id": "5YYOphejB-CS"
      }
    },
    {
      "cell_type": "code",
      "source": [
        "def sum(num1, num2):\n",
        "  return num1 + num2 # Returns the value of the total of the two parameters\n",
        "\n",
        "total = sum(2,3)\n",
        "print(total)"
      ],
      "metadata": {
        "colab": {
          "base_uri": "https://localhost:8080/"
        },
        "id": "zVmX4xYBBqe6",
        "outputId": "b1f9d7b0-71c2-4496-d9cb-4ce4ff18d41e"
      },
      "execution_count": 7,
      "outputs": [
        {
          "output_type": "stream",
          "name": "stdout",
          "text": [
            "5\n"
          ]
        }
      ]
    },
    {
      "cell_type": "markdown",
      "source": [
        "Checking Argument Types"
      ],
      "metadata": {
        "id": "WuXFV-PkChGA"
      }
    },
    {
      "cell_type": "code",
      "source": [
        "# Lets verify we are actually receiving numbers as arguments\n",
        "def sum(num1, num2):\n",
        "  if (type(num1) is not int or type(num2) is not int):\n",
        "    return # We are not returning anything here. We are exiting the function. It will never execute the next line (next return statement)\n",
        "  return num1 + num2\n",
        "\n",
        "total = sum(\"a\",3)\n",
        "print(total) # Here None is a special value in python is not True or False"
      ],
      "metadata": {
        "colab": {
          "base_uri": "https://localhost:8080/"
        },
        "id": "GYrznXmACajy",
        "outputId": "1032e7a0-ff94-4229-bf2f-9c53670f67e2"
      },
      "execution_count": 11,
      "outputs": [
        {
          "output_type": "stream",
          "name": "stdout",
          "text": [
            "None\n"
          ]
        }
      ]
    },
    {
      "cell_type": "markdown",
      "source": [
        "Default Parameter Values"
      ],
      "metadata": {
        "id": "N0KRxnydDXvb"
      }
    },
    {
      "cell_type": "code",
      "source": [
        "# What happens if nothing is passed in\n",
        "def sum(num1, num2):\n",
        "  if (type(num1) is not int or type(num2) is not int):\n",
        "    return\n",
        "  return num1 + num2\n",
        "\n",
        "total = sum()\n",
        "print(total)"
      ],
      "metadata": {
        "colab": {
          "base_uri": "https://localhost:8080/",
          "height": 193
        },
        "id": "m5lu6pvcCpvh",
        "outputId": "d2093638-bb8a-4caa-de80-af06c7b23bfc"
      },
      "execution_count": 13,
      "outputs": [
        {
          "output_type": "error",
          "ename": "TypeError",
          "evalue": "sum() missing 2 required positional arguments: 'num1' and 'num2'",
          "traceback": [
            "\u001b[0;31m---------------------------------------------------------------------------\u001b[0m",
            "\u001b[0;31mTypeError\u001b[0m                                 Traceback (most recent call last)",
            "\u001b[0;32m<ipython-input-13-076599eb1f0d>\u001b[0m in \u001b[0;36m<cell line: 0>\u001b[0;34m()\u001b[0m\n\u001b[1;32m      5\u001b[0m   \u001b[0;32mreturn\u001b[0m \u001b[0mnum1\u001b[0m \u001b[0;34m+\u001b[0m \u001b[0mnum2\u001b[0m\u001b[0;34m\u001b[0m\u001b[0;34m\u001b[0m\u001b[0m\n\u001b[1;32m      6\u001b[0m \u001b[0;34m\u001b[0m\u001b[0m\n\u001b[0;32m----> 7\u001b[0;31m \u001b[0mtotal\u001b[0m \u001b[0;34m=\u001b[0m \u001b[0msum\u001b[0m\u001b[0;34m(\u001b[0m\u001b[0;34m)\u001b[0m\u001b[0;34m\u001b[0m\u001b[0;34m\u001b[0m\u001b[0m\n\u001b[0m\u001b[1;32m      8\u001b[0m \u001b[0mprint\u001b[0m\u001b[0;34m(\u001b[0m\u001b[0mtotal\u001b[0m\u001b[0;34m)\u001b[0m\u001b[0;34m\u001b[0m\u001b[0;34m\u001b[0m\u001b[0m\n",
            "\u001b[0;31mTypeError\u001b[0m: sum() missing 2 required positional arguments: 'num1' and 'num2'"
          ]
        }
      ]
    },
    {
      "cell_type": "code",
      "source": [
        "def sum(num1, num2=3):\n",
        "  if (type(num1) is not int or type(num2) is not int):\n",
        "    return\n",
        "  return num1 + num2\n",
        "\n",
        "total = sum(1)\n",
        "print(total)"
      ],
      "metadata": {
        "colab": {
          "base_uri": "https://localhost:8080/"
        },
        "id": "jCv4J4ZvDfKl",
        "outputId": "28351d19-7495-4423-e1d6-b44bbb03e0ae"
      },
      "execution_count": 15,
      "outputs": [
        {
          "output_type": "stream",
          "name": "stdout",
          "text": [
            "4\n"
          ]
        }
      ]
    },
    {
      "cell_type": "code",
      "source": [
        "def sum(num1=0, num2=0):\n",
        "  if (type(num1) is not int or type(num2) is not int):\n",
        "    return\n",
        "  return num1 + num2\n",
        "\n",
        "total = sum()\n",
        "print(total)"
      ],
      "metadata": {
        "colab": {
          "base_uri": "https://localhost:8080/"
        },
        "id": "Ol49mXI-DoB6",
        "outputId": "8a64fbca-efe0-454d-d317-94b9cf188368"
      },
      "execution_count": 17,
      "outputs": [
        {
          "output_type": "stream",
          "name": "stdout",
          "text": [
            "0\n"
          ]
        }
      ]
    },
    {
      "cell_type": "markdown",
      "source": [
        "Reviewing Sum Function"
      ],
      "metadata": {
        "id": "KUbWfQxRD14x"
      }
    },
    {
      "cell_type": "code",
      "source": [
        "def sum(num1=0, num2=0):\n",
        "  if (type(num1) is not int or type(num2) is not int):\n",
        "    return\n",
        "  return 0\n",
        "\n",
        "total = sum()\n",
        "print(total)"
      ],
      "metadata": {
        "colab": {
          "base_uri": "https://localhost:8080/"
        },
        "id": "A97r4Mg0DvXF",
        "outputId": "9bdd08ad-a945-4bad-8bd6-63a9b2c7f489"
      },
      "execution_count": 18,
      "outputs": [
        {
          "output_type": "stream",
          "name": "stdout",
          "text": [
            "0\n"
          ]
        }
      ]
    },
    {
      "cell_type": "markdown",
      "source": [
        "Reveiving an Unknown Number of args"
      ],
      "metadata": {
        "id": "N4nh71DGEfhK"
      }
    },
    {
      "cell_type": "code",
      "source": [
        "# Some functions may receive multiple arguments but when defining the function you dont know how many arguments are going to be passed into it\n",
        "def multiple_items(*args):\n",
        "    print(args)\n",
        "    print(type(args))\n",
        "\n",
        "\n",
        "multiple_items(\"Dave\", \"John\", \"Sara\")\n"
      ],
      "metadata": {
        "colab": {
          "base_uri": "https://localhost:8080/"
        },
        "id": "55XOiR3fEUI-",
        "outputId": "11890966-685c-4a6f-e25e-d8fe4d5103f9"
      },
      "execution_count": 21,
      "outputs": [
        {
          "output_type": "stream",
          "name": "stdout",
          "text": [
            "('Dave', 'John', 'Sara')\n",
            "<class 'tuple'>\n"
          ]
        }
      ]
    },
    {
      "cell_type": "code",
      "source": [],
      "metadata": {
        "id": "YuHCihL7Er3p"
      },
      "execution_count": null,
      "outputs": []
    }
  ]
}