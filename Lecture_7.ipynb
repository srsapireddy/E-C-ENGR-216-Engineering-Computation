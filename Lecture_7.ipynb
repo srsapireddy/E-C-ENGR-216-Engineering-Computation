{
  "nbformat": 4,
  "nbformat_minor": 0,
  "metadata": {
    "colab": {
      "provenance": []
    },
    "kernelspec": {
      "name": "python3",
      "display_name": "Python 3"
    },
    "language_info": {
      "name": "python"
    }
  },
  "cells": [
    {
      "cell_type": "markdown",
      "source": [
        "Slide 2"
      ],
      "metadata": {
        "id": "536J3nilo3DC"
      }
    },
    {
      "cell_type": "markdown",
      "source": [
        "Example 1: Basic range(i, j)"
      ],
      "metadata": {
        "id": "v_LRJaoeog8k"
      }
    },
    {
      "cell_type": "code",
      "execution_count": 1,
      "metadata": {
        "colab": {
          "base_uri": "https://localhost:8080/"
        },
        "id": "i90yGnfKmXRU",
        "outputId": "b61a3a76-50d4-47f1-aec9-1b4c7da63bc9"
      },
      "outputs": [
        {
          "output_type": "stream",
          "name": "stdout",
          "text": [
            "2\n",
            "3\n",
            "4\n",
            "5\n"
          ]
        }
      ],
      "source": [
        "for num in range(2, 6):\n",
        "    print(num)\n"
      ]
    },
    {
      "cell_type": "markdown",
      "source": [
        "Example 2: range(j) (Starts from 0)"
      ],
      "metadata": {
        "id": "bnswWaKHomcB"
      }
    },
    {
      "cell_type": "code",
      "source": [
        "for num in range(5):\n",
        "    print(num)\n"
      ],
      "metadata": {
        "colab": {
          "base_uri": "https://localhost:8080/"
        },
        "id": "PY59r8aQooR6",
        "outputId": "dd24ad62-1ec0-43bf-87ab-e830bb8789ba"
      },
      "execution_count": 2,
      "outputs": [
        {
          "output_type": "stream",
          "name": "stdout",
          "text": [
            "0\n",
            "1\n",
            "2\n",
            "3\n",
            "4\n"
          ]
        }
      ]
    },
    {
      "cell_type": "markdown",
      "source": [
        "Example 3: range(i, j, k) (Increment by k)"
      ],
      "metadata": {
        "id": "Ur-ttj65orEk"
      }
    },
    {
      "cell_type": "code",
      "source": [
        "for num in range(1, 10, 2):\n",
        "    print(num)\n"
      ],
      "metadata": {
        "colab": {
          "base_uri": "https://localhost:8080/"
        },
        "id": "SKs6siKxotc5",
        "outputId": "2d0db2e2-0f70-4cb6-e36b-e575dc08763d"
      },
      "execution_count": 3,
      "outputs": [
        {
          "output_type": "stream",
          "name": "stdout",
          "text": [
            "1\n",
            "3\n",
            "5\n",
            "7\n",
            "9\n"
          ]
        }
      ]
    },
    {
      "cell_type": "markdown",
      "source": [
        "Example 4: Countdown using range(i, j, -1)"
      ],
      "metadata": {
        "id": "trfk50E4owt5"
      }
    },
    {
      "cell_type": "code",
      "source": [
        "for num in range(5, 0, -1):\n",
        "    print(num)\n"
      ],
      "metadata": {
        "colab": {
          "base_uri": "https://localhost:8080/"
        },
        "id": "XazgZpJ_ovyy",
        "outputId": "f3916ef4-ea9d-4a16-f060-7b68da2f9d72"
      },
      "execution_count": 4,
      "outputs": [
        {
          "output_type": "stream",
          "name": "stdout",
          "text": [
            "5\n",
            "4\n",
            "3\n",
            "2\n",
            "1\n"
          ]
        }
      ]
    },
    {
      "cell_type": "markdown",
      "source": [
        "Slide 3"
      ],
      "metadata": {
        "id": "j4tArwcOo1EE"
      }
    },
    {
      "cell_type": "markdown",
      "source": [
        "**Example 1: range(i, j, k) with Positive Step (k > 0):**\n",
        "Rule: If i >= j, the sequence is empty"
      ],
      "metadata": {
        "id": "uF6XORShpHn6"
      }
    },
    {
      "cell_type": "code",
      "source": [
        "for num in range(5, 15, 3):\n",
        "    print(num)\n",
        "    #  Starts from 2 and stops before 10, incrementing by 2.\n"
      ],
      "metadata": {
        "colab": {
          "base_uri": "https://localhost:8080/"
        },
        "id": "vC8fVzfpovF6",
        "outputId": "d9f03004-2894-4f3f-8896-8cd9ec9aa8ae"
      },
      "execution_count": 5,
      "outputs": [
        {
          "output_type": "stream",
          "name": "stdout",
          "text": [
            "5\n",
            "8\n",
            "11\n",
            "14\n"
          ]
        }
      ]
    },
    {
      "cell_type": "markdown",
      "source": [
        "Example 2: k is positive, i >= j (Empty sequence)"
      ],
      "metadata": {
        "id": "7pXTsGpupaWL"
      }
    },
    {
      "cell_type": "code",
      "source": [
        "for num in range(10, 2, 2):\n",
        "    print(num) # Since 10 >= 2 and k = 2, the sequence is empty.\n"
      ],
      "metadata": {
        "id": "vnCnxf3bpWmS"
      },
      "execution_count": 6,
      "outputs": []
    },
    {
      "cell_type": "markdown",
      "source": [
        "Example 3: k is negative, i > j (Counting down)"
      ],
      "metadata": {
        "id": "pzIImp5XpsZx"
      }
    },
    {
      "cell_type": "code",
      "source": [
        "for num in range(12, 1, -3):\n",
        "    print(num) # Starts from 12 and decrements by 3, stopping before 1.\n"
      ],
      "metadata": {
        "colab": {
          "base_uri": "https://localhost:8080/"
        },
        "id": "4VadWWgvpr0k",
        "outputId": "80f8eb79-3980-420a-8479-05b9a9392956"
      },
      "execution_count": 7,
      "outputs": [
        {
          "output_type": "stream",
          "name": "stdout",
          "text": [
            "12\n",
            "9\n",
            "6\n",
            "3\n"
          ]
        }
      ]
    },
    {
      "cell_type": "markdown",
      "source": [
        "Example 4: k is negative, i <= j (Empty sequence)"
      ],
      "metadata": {
        "id": "NjhcIM9Apv6D"
      }
    },
    {
      "cell_type": "code",
      "source": [
        "for num in range(3, 10, -2):\n",
        "    print(num) # Since 3 <= 10 and k = -2, the sequence is empty.\n"
      ],
      "metadata": {
        "id": "8IrrJp5UpvGD"
      },
      "execution_count": 8,
      "outputs": []
    },
    {
      "cell_type": "markdown",
      "source": [
        "Example 5: k is negative, stopping before j"
      ],
      "metadata": {
        "id": "eXZslNomqFKD"
      }
    },
    {
      "cell_type": "code",
      "source": [
        "for num in range(20, 5, -4):\n",
        "    print(num) # Starts from 20, decrements by 4, stops before 5.\n"
      ],
      "metadata": {
        "colab": {
          "base_uri": "https://localhost:8080/"
        },
        "id": "qiDzyEfyqEqr",
        "outputId": "7c717a93-3537-4115-8bcf-56f942c273f5"
      },
      "execution_count": 9,
      "outputs": [
        {
          "output_type": "stream",
          "name": "stdout",
          "text": [
            "20\n",
            "16\n",
            "12\n",
            "8\n"
          ]
        }
      ]
    }
  ]
}