{
  "nbformat": 4,
  "nbformat_minor": 0,
  "metadata": {
    "colab": {
      "provenance": []
    },
    "kernelspec": {
      "name": "python3",
      "display_name": "Python 3"
    },
    "language_info": {
      "name": "python"
    }
  },
  "cells": [
    {
      "cell_type": "markdown",
      "source": [
        "**Conditional Expression - Slide 3**"
      ],
      "metadata": {
        "id": "6aUWEL4SGcks"
      }
    },
    {
      "cell_type": "code",
      "execution_count": 5,
      "metadata": {
        "colab": {
          "base_uri": "https://localhost:8080/"
        },
        "id": "yrl_vPgz3Yfx",
        "outputId": "5a2a2909-f81f-4f82-f4f8-636b81719043"
      },
      "outputs": [
        {
          "output_type": "stream",
          "name": "stdout",
          "text": [
            "Enter value for m: 3\n",
            "Enter value for n: 2\n",
            "m = 2 n = 3\n"
          ]
        }
      ],
      "source": [
        "# Input values for m and n\n",
        "m = int(input(\"Enter value for m: \"))\n",
        "n = int(input(\"Enter value for n: \"))\n",
        "\n",
        "# Check if m is not divisible by n\n",
        "if m % n != 0:\n",
        "    m, n = n, m  # Swap m and n\n",
        "\n",
        "# Output the result\n",
        "print(\"m =\", m, \"n =\", n)\n"
      ]
    },
    {
      "cell_type": "markdown",
      "source": [
        "**Alternate Execution - Slide 4**"
      ],
      "metadata": {
        "id": "BJK0sGsTGb_I"
      }
    },
    {
      "cell_type": "code",
      "source": [
        "# Input values for m and n\n",
        "m = int(input(\"Enter value for m: \"))\n",
        "n = int(input(\"Enter value for n: \"))\n",
        "gcd = int(input(\"Enter value for n: \"))\n",
        "# Check if m is not divisible by n\n",
        "if m % n != 0:\n",
        "    m, n = n, m  # Swap m and n\n",
        "else:\n",
        "    gcd = n  # Set gcd to n\n",
        "\n",
        "# Output the result\n",
        "print(\"m =\", m, \"n =\", n)\n",
        "print(\"gcd =\", gcd)\n"
      ],
      "metadata": {
        "colab": {
          "base_uri": "https://localhost:8080/"
        },
        "id": "65GplUkiGrnQ",
        "outputId": "abcc7c28-f246-424e-ceff-f89f72bea160"
      },
      "execution_count": 8,
      "outputs": [
        {
          "output_type": "stream",
          "name": "stdout",
          "text": [
            "Enter value for m: 3\n",
            "Enter value for n: 3\n",
            "Enter value for n: 1\n",
            "m = 3 n = 3\n",
            "gcd = 3\n"
          ]
        }
      ]
    },
    {
      "cell_type": "markdown",
      "source": [
        "**Multiway Branching - ifelse - Slide 5**"
      ],
      "metadata": {
        "id": "4er0d6i-HLO1"
      }
    },
    {
      "cell_type": "code",
      "source": [
        "# Input values for a, b, and x\n",
        "a = int(input(\"Enter value for a: \"))\n",
        "b = int(input(\"Enter value for b: \"))\n",
        "x = int(input(\"Enter value for x (1, 2, 3, or any other number): \"))\n",
        "\n",
        "# Perform operations based on the value of x\n",
        "if x == 1:\n",
        "    y = a + b\n",
        "elif x == 2:\n",
        "    y = a - b\n",
        "elif x == 3:\n",
        "    y = a * b\n",
        "else:\n",
        "    y = a / b\n",
        "\n",
        "# Output the result\n",
        "print(\"y =\", y)\n"
      ],
      "metadata": {
        "colab": {
          "base_uri": "https://localhost:8080/"
        },
        "id": "dnPSvukVG2FN",
        "outputId": "7d2473b8-9126-407d-c57c-dc30e0cfdaf6"
      },
      "execution_count": 9,
      "outputs": [
        {
          "output_type": "stream",
          "name": "stdout",
          "text": [
            "Enter value for a: 1\n",
            "Enter value for b: 2\n",
            "Enter value for x (1, 2, 3, or any other number): 3\n",
            "y = 2\n"
          ]
        }
      ]
    },
    {
      "cell_type": "markdown",
      "source": [
        "**Multiway Branching - elif - Slide 6**"
      ],
      "metadata": {
        "id": "Z39d8da_HY0N"
      }
    },
    {
      "cell_type": "code",
      "source": [
        "# Input values for a, b, and x\n",
        "a = int(input(\"Enter value for a: \"))\n",
        "b = int(input(\"Enter value for b: \"))\n",
        "x = int(input(\"Enter value for x (1, 2, 3, or any other number): \"))\n",
        "\n",
        "# Perform operations based on the value of x\n",
        "if x == 1:\n",
        "    y = a + b\n",
        "elif x == 2:\n",
        "    y = a - b\n",
        "elif x == 3:\n",
        "    y = a * b\n",
        "else:\n",
        "    y = a / b\n",
        "\n",
        "# Output the result\n",
        "print(\"y =\", y)\n"
      ],
      "metadata": {
        "colab": {
          "base_uri": "https://localhost:8080/"
        },
        "id": "4y4qLUVgHRCV",
        "outputId": "321f581b-f7d0-4ff0-e71d-25fbfaae402c"
      },
      "execution_count": 10,
      "outputs": [
        {
          "output_type": "stream",
          "name": "stdout",
          "text": [
            "Enter value for a: 1\n",
            "Enter value for b: 2\n",
            "Enter value for x (1, 2, 3, or any other number): 3\n",
            "y = 2\n"
          ]
        }
      ]
    },
    {
      "cell_type": "markdown",
      "source": [
        "**Loops - Slide 7**"
      ],
      "metadata": {
        "id": "USqGoPqeH8zN"
      }
    },
    {
      "cell_type": "code",
      "source": [
        "# Initialize variables\n",
        "y = 1  # Start with 1 since it will be multiplied\n",
        "z = 0  # Counter starts from 0\n",
        "\n",
        "# Loop through the list [1, 2, 3, 4]\n",
        "for i in [1, 2, 3, 4]:\n",
        "    y = y * i  # Multiply y by the current value of i\n",
        "    z = z + 1  # Increment z by 1\n",
        "\n",
        "# Output the results\n",
        "print(\"Final value of y:\", y)\n",
        "print(\"Final value of z:\", z)\n"
      ],
      "metadata": {
        "colab": {
          "base_uri": "https://localhost:8080/"
        },
        "id": "dw5wOg8lHi-c",
        "outputId": "217ac34a-9404-44ee-c503-cca39cb9a0d7"
      },
      "execution_count": 11,
      "outputs": [
        {
          "output_type": "stream",
          "name": "stdout",
          "text": [
            "Final value of y: 24\n",
            "Final value of z: 4\n"
          ]
        }
      ]
    },
    {
      "cell_type": "markdown",
      "source": [
        "**for loop - Slide 8**"
      ],
      "metadata": {
        "id": "w4lmPv_UIJ_1"
      }
    },
    {
      "cell_type": "code",
      "source": [
        "# Initialize variables\n",
        "y = 1  # Start with 1 since it will be multiplied\n",
        "z = 0  # Counter starts from 0\n",
        "\n",
        "# Loop through the range 1 to n-1\n",
        "n = 5  # Define n\n",
        "for i in range(1, n):  # i will take values from 1 to n-1\n",
        "    y = y * i  # Multiply y by the current value of i\n",
        "    z = z + 1  # Increment z by 1\n",
        "\n",
        "# Output the results\n",
        "print(\"Final value of y:\", y)\n",
        "print(\"Final value of z:\", z)\n"
      ],
      "metadata": {
        "colab": {
          "base_uri": "https://localhost:8080/"
        },
        "id": "TBWUM9bwTEx2",
        "outputId": "a13e7efd-224b-46e0-9e11-21b94722889a"
      },
      "execution_count": 24,
      "outputs": [
        {
          "output_type": "stream",
          "name": "stdout",
          "text": [
            "Final value of y: 24\n",
            "Final value of z: 4\n"
          ]
        }
      ]
    },
    {
      "cell_type": "markdown",
      "source": [
        "**Finding Factors - Slide 9**"
      ],
      "metadata": {
        "id": "vQA-hDtQIgls"
      }
    },
    {
      "cell_type": "code",
      "source": [
        "# Function to find the factors of a number\n",
        "def factors(n):\n",
        "    flist = []  # Initialize an empty list\n",
        "    for i in range(1, n + 1):  # Loop from 1 to n\n",
        "        if n % i == 0:  # Check if i is a factor of n\n",
        "            flist = flist + [i]  # Add i to the list\n",
        "    return flist  # Return the list of factors\n",
        "\n",
        "# Input from the user\n",
        "number = int(input(\"Enter a number to find its factors: \"))\n",
        "\n",
        "# Call the function and display the result\n",
        "factor_list = factors(number)\n",
        "print(f\"Factors of {number} are:\", factor_list)\n"
      ],
      "metadata": {
        "colab": {
          "base_uri": "https://localhost:8080/"
        },
        "id": "mwMYguVnIVNE",
        "outputId": "9b9d2f17-6c4f-450b-ec46-03ee223ea35a"
      },
      "execution_count": 25,
      "outputs": [
        {
          "output_type": "stream",
          "name": "stdout",
          "text": [
            "Enter a number to find its factors: 6\n",
            "Factors of 6 are: [1, 2, 3, 6]\n"
          ]
        }
      ]
    },
    {
      "cell_type": "markdown",
      "source": [
        "**While loop - Slide 11**"
      ],
      "metadata": {
        "id": "z6RQQ3bRI0H1"
      }
    },
    {
      "cell_type": "code",
      "source": [
        "# Initialize variables\n",
        "y = 1  # Start with 1 since it will be multiplied\n",
        "z = 0  # Counter starts from 0\n",
        "i = 1  # Start from the first value\n",
        "\n",
        "# Loop through numbers 1 to 4\n",
        "while i <= 4:\n",
        "    y = y * i  # Multiply y by the current value of i\n",
        "    z = z + 1  # Increment z by 1\n",
        "    i += 1  # Move to the next number\n",
        "\n",
        "# Output the results\n",
        "print(\"Final value of y:\", y)\n",
        "print(\"Final value of z:\", z)\n"
      ],
      "metadata": {
        "colab": {
          "base_uri": "https://localhost:8080/"
        },
        "id": "UzGgTtB-IjGE",
        "outputId": "4e813684-f93f-44fd-8bf6-960abfe11e83"
      },
      "execution_count": 27,
      "outputs": [
        {
          "output_type": "stream",
          "name": "stdout",
          "text": [
            "Final value of y: 24\n",
            "Final value of z: 4\n"
          ]
        }
      ]
    },
    {
      "cell_type": "code",
      "source": [],
      "metadata": {
        "id": "Tr-rwJatI3ZH"
      },
      "execution_count": null,
      "outputs": []
    }
  ]
}