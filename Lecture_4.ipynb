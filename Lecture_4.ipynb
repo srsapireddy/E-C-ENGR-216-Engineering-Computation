{
  "nbformat": 4,
  "nbformat_minor": 0,
  "metadata": {
    "colab": {
      "provenance": []
    },
    "kernelspec": {
      "name": "python3",
      "display_name": "Python 3"
    },
    "language_info": {
      "name": "python"
    }
  },
  "cells": [
    {
      "cell_type": "markdown",
      "source": [
        "**Conditional Expression - Slide 3**"
      ],
      "metadata": {
        "id": "6aUWEL4SGcks"
      }
    },
    {
      "cell_type": "code",
      "execution_count": 1,
      "metadata": {
        "colab": {
          "base_uri": "https://localhost:8080/"
        },
        "id": "yrl_vPgz3Yfx",
        "outputId": "aecaa093-d98e-4620-d755-8d3e6f583347"
      },
      "outputs": [
        {
          "output_type": "stream",
          "name": "stdout",
          "text": [
            "Enter value for m: 4\n",
            "Enter value for n: 5\n",
            "m = 5 n = 4\n"
          ]
        }
      ],
      "source": [
        "# Input values for m and n\n",
        "m = int(input(\"Enter value for m: \"))\n",
        "n = int(input(\"Enter value for n: \"))\n",
        "\n",
        "# Check if m is not divisible by n\n",
        "if m % n != 0:\n",
        "    m, n = n, m  # Swap m and n\n",
        "\n",
        "# Output the result\n",
        "print(\"m =\", m, \"n =\", n)\n"
      ]
    },
    {
      "cell_type": "markdown",
      "source": [
        "**Alternate Execution - Slide 4**"
      ],
      "metadata": {
        "id": "BJK0sGsTGb_I"
      }
    },
    {
      "cell_type": "code",
      "source": [
        "# Input values for m and n\n",
        "m = int(input(\"Enter value for m: \"))\n",
        "n = int(input(\"Enter value for n: \"))\n",
        "\n",
        "# Check if m is not divisible by n\n",
        "if m % n != 0:\n",
        "    m, n = n, m  # Swap m and n\n",
        "else:\n",
        "    gcd = n  # Set gcd to n\n",
        "\n",
        "# Output the result\n",
        "print(\"m =\", m, \"n =\", n)\n",
        "if 'gcd' in locals():\n",
        "    print(\"gcd =\", gcd)\n"
      ],
      "metadata": {
        "colab": {
          "base_uri": "https://localhost:8080/"
        },
        "id": "65GplUkiGrnQ",
        "outputId": "8021de70-cce9-44c2-bdab-da84011380dc"
      },
      "execution_count": 5,
      "outputs": [
        {
          "output_type": "stream",
          "name": "stdout",
          "text": [
            "Enter value for m: 7\n",
            "Enter value for n: 2\n",
            "m = 2 n = 7\n",
            "gcd = 2\n"
          ]
        }
      ]
    },
    {
      "cell_type": "markdown",
      "source": [
        "**Multiway Branching - ifelse - Slide 5**"
      ],
      "metadata": {
        "id": "4er0d6i-HLO1"
      }
    },
    {
      "cell_type": "code",
      "source": [
        "# Input values for a, b, and x\n",
        "a = int(input(\"Enter value for a: \"))\n",
        "b = int(input(\"Enter value for b: \"))\n",
        "x = int(input(\"Enter value for x (1, 2, 3, or any other number): \"))\n",
        "\n",
        "# Perform operations based on the value of x\n",
        "if x == 1:\n",
        "    y = a + b\n",
        "elif x == 2:\n",
        "    y = a - b\n",
        "elif x == 3:\n",
        "    y = a * b\n",
        "else:\n",
        "    y = a / b\n",
        "\n",
        "# Output the result\n",
        "print(\"y =\", y)\n"
      ],
      "metadata": {
        "colab": {
          "base_uri": "https://localhost:8080/"
        },
        "id": "dnPSvukVG2FN",
        "outputId": "08d72d06-b279-4a15-91cd-b0f5a58d4d9c"
      },
      "execution_count": 8,
      "outputs": [
        {
          "output_type": "stream",
          "name": "stdout",
          "text": [
            "Enter value for a: 1\n",
            "Enter value for b: 2\n",
            "Enter value for x (1, 2, 3, or any other number): 3\n",
            "y = 2\n"
          ]
        }
      ]
    },
    {
      "cell_type": "markdown",
      "source": [
        "**Multiway Branching - elif - Slide 6**"
      ],
      "metadata": {
        "id": "Z39d8da_HY0N"
      }
    },
    {
      "cell_type": "code",
      "source": [
        "# Input values for a, b, and x\n",
        "a = int(input(\"Enter value for a: \"))\n",
        "b = int(input(\"Enter value for b: \"))\n",
        "x = int(input(\"Enter value for x (1, 2, 3, or any other number): \"))\n",
        "\n",
        "# Perform operations based on the value of x\n",
        "if x == 1:\n",
        "    y = a + b\n",
        "elif x == 2:\n",
        "    y = a - b\n",
        "elif x == 3:\n",
        "    y = a * b\n",
        "else:\n",
        "    y = a / b\n",
        "\n",
        "# Output the result\n",
        "print(\"y =\", y)\n"
      ],
      "metadata": {
        "colab": {
          "base_uri": "https://localhost:8080/"
        },
        "id": "4y4qLUVgHRCV",
        "outputId": "a7a3ed6a-ffea-4ea3-dd6a-1225108c41d7"
      },
      "execution_count": 9,
      "outputs": [
        {
          "output_type": "stream",
          "name": "stdout",
          "text": [
            "Enter value for a: 1\n",
            "Enter value for b: 4\n",
            "Enter value for x (1, 2, 3, or any other number): 4\n",
            "y = 0.25\n"
          ]
        }
      ]
    },
    {
      "cell_type": "markdown",
      "source": [
        "**Loops - Slide 7**"
      ],
      "metadata": {
        "id": "USqGoPqeH8zN"
      }
    },
    {
      "cell_type": "code",
      "source": [
        "# Initialize variables\n",
        "y = 1  # Start with 1 since it will be multiplied\n",
        "z = 0  # Counter starts from 0\n",
        "\n",
        "# Loop through the list [1, 2, 3, 4]\n",
        "for i in [1, 2, 3, 4]:\n",
        "    y = y * i  # Multiply y by the current value of i\n",
        "    z = z + 1  # Increment z by 1\n",
        "\n",
        "# Output the results\n",
        "print(\"Final value of y:\", y)\n",
        "print(\"Final value of z:\", z)\n"
      ],
      "metadata": {
        "colab": {
          "base_uri": "https://localhost:8080/"
        },
        "id": "dw5wOg8lHi-c",
        "outputId": "c7973385-3260-4944-a145-e1a2a05c3045"
      },
      "execution_count": 10,
      "outputs": [
        {
          "output_type": "stream",
          "name": "stdout",
          "text": [
            "Final value of y: 24\n",
            "Final value of z: 4\n"
          ]
        }
      ]
    },
    {
      "cell_type": "markdown",
      "source": [
        "**for loop - Slide 8**"
      ],
      "metadata": {
        "id": "w4lmPv_UIJ_1"
      }
    },
    {
      "cell_type": "code",
      "source": [
        "# Input the value of n\n",
        "n = int(input(\"Enter the value of n: \"))\n",
        "\n",
        "# Using range to iterate from 0 to n-1\n",
        "print(\"Using range(0, n):\")\n",
        "for i in range(0, n):\n",
        "    print(\"i =\", i)\n",
        "\n",
        "# Using a list of numbers from 1 to n\n",
        "print(\"\\nUsing [1, 2, ..., n]:\")\n",
        "for i in range(1, n + 1):\n",
        "    print(\"i =\", i)\n"
      ],
      "metadata": {
        "colab": {
          "base_uri": "https://localhost:8080/"
        },
        "id": "dhF9s76DIAB1",
        "outputId": "b9139f83-36e4-4ebb-ac0c-7db5a9ef17d9"
      },
      "execution_count": 11,
      "outputs": [
        {
          "output_type": "stream",
          "name": "stdout",
          "text": [
            "Enter the value of n: 3\n",
            "Using range(0, n):\n",
            "i = 0\n",
            "i = 1\n",
            "i = 2\n",
            "\n",
            "Using [1, 2, ..., n]:\n",
            "i = 1\n",
            "i = 2\n",
            "i = 3\n"
          ]
        }
      ]
    },
    {
      "cell_type": "markdown",
      "source": [
        "**Finding Factors - Slide 9**"
      ],
      "metadata": {
        "id": "vQA-hDtQIgls"
      }
    },
    {
      "cell_type": "code",
      "source": [
        "# Function to find the factors of a number\n",
        "def factors(n):\n",
        "    flist = []  # Initialize an empty list\n",
        "    for i in range(1, n + 1):  # Loop from 1 to n\n",
        "        if n % i == 0:  # Check if i is a factor of n\n",
        "            flist = flist + [i]  # Add i to the list\n",
        "    return flist  # Return the list of factors\n",
        "\n",
        "# Input from the user\n",
        "number = int(input(\"Enter a number to find its factors: \"))\n",
        "\n",
        "# Call the function and display the result\n",
        "factor_list = factors(number)\n",
        "print(f\"Factors of {number} are:\", factor_list)\n"
      ],
      "metadata": {
        "colab": {
          "base_uri": "https://localhost:8080/"
        },
        "id": "mwMYguVnIVNE",
        "outputId": "eff83f71-bd79-4305-ff00-9f284ce1645a"
      },
      "execution_count": 13,
      "outputs": [
        {
          "output_type": "stream",
          "name": "stdout",
          "text": [
            "Enter a number to find its factors: 6\n",
            "Factors of 6 are: [1, 2, 3, 6]\n"
          ]
        }
      ]
    },
    {
      "cell_type": "markdown",
      "source": [
        "**GCD - Slide 11**"
      ],
      "metadata": {
        "id": "z6RQQ3bRI0H1"
      }
    },
    {
      "cell_type": "code",
      "source": [
        "def example_function(a, b):\n",
        "    # Swap a and b if a is smaller\n",
        "    if a < b:\n",
        "        a, b = b, a  # Swap values\n",
        "\n",
        "    # Continue while a is not divisible by b\n",
        "    while a % b != 0:\n",
        "        a, b = b, a % b  # Swap and assign the remainder\n",
        "\n",
        "    return b  # Return the final value of b\n",
        "\n",
        "# Input values\n",
        "x = int(input(\"Enter the first number (a): \"))\n",
        "y = int(input(\"Enter the second number (b): \"))\n",
        "\n",
        "# Call the function\n",
        "result = example_function(x, y)\n",
        "print(\"The result is:\", result)\n"
      ],
      "metadata": {
        "colab": {
          "base_uri": "https://localhost:8080/"
        },
        "id": "UzGgTtB-IjGE",
        "outputId": "62657475-d268-4d0f-df53-3ecb38c8fbb3"
      },
      "execution_count": 14,
      "outputs": [
        {
          "output_type": "stream",
          "name": "stdout",
          "text": [
            "Enter the first number (a): 3\n",
            "Enter the second number (b): 4\n",
            "The result is: 1\n"
          ]
        }
      ]
    },
    {
      "cell_type": "code",
      "source": [],
      "metadata": {
        "id": "Tr-rwJatI3ZH"
      },
      "execution_count": null,
      "outputs": []
    }
  ]
}