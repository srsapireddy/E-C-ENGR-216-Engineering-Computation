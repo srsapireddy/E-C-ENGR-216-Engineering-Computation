{
  "nbformat": 4,
  "nbformat_minor": 0,
  "metadata": {
    "colab": {
      "provenance": []
    },
    "kernelspec": {
      "name": "python3",
      "display_name": "Python 3"
    },
    "language_info": {
      "name": "python"
    }
  },
  "cells": [
    {
      "cell_type": "markdown",
      "source": [
        "**Passing values to functions - Slide 4**"
      ],
      "metadata": {
        "id": "lpQP0ZnVM3XH"
      }
    },
    {
      "cell_type": "code",
      "execution_count": 5,
      "metadata": {
        "colab": {
          "base_uri": "https://localhost:8080/"
        },
        "id": "nq4Xi7s1JQLT",
        "outputId": "8787a3c0-6adb-4ca7-878f-2636337fdff2"
      },
      "outputs": [
        {
          "output_type": "stream",
          "name": "stdout",
          "text": [
            "5 to the power of 3 is: 125\n"
          ]
        }
      ],
      "source": [
        "# Function to calculate power\n",
        "def power(x, n):\n",
        "    ans = 1  # Initialize result to 1\n",
        "    for i in range(0, n):  # Loop n-1 times\n",
        "        ans = ans * x  # Multiply ans by x in each iteration\n",
        "    return ans  # Return the final result\n",
        "\n",
        "# Example usage\n",
        "result = power(5, 3)  # Call the function with x = 3 and n = 5\n",
        "print(\"5 to the power of 3 is:\", result)\n"
      ]
    },
    {
      "cell_type": "code",
      "source": [
        "# Function to calculate power\n",
        "def power(x, n):\n",
        "    ans = 1  # Initialize result to 1\n",
        "    for i in range(0, n):  # Loop n times\n",
        "        ans = ans * x  # Multiply ans by x in each iteration\n",
        "        print(f\"After iteration {i+1}, ans = {ans}\")  # Print intermediate result\n",
        "    return ans  # Return the final result\n",
        "\n",
        "# Example usage\n",
        "result = power(5, 3)  # Call the function with x = 5 and n = 3\n",
        "print(\"5 to the power of 3 is:\", result)\n"
      ],
      "metadata": {
        "colab": {
          "base_uri": "https://localhost:8080/"
        },
        "id": "NnfUCOpMNSCA",
        "outputId": "0bb0cf7d-6170-49d6-a8ef-af0d5d89c66f"
      },
      "execution_count": 4,
      "outputs": [
        {
          "output_type": "stream",
          "name": "stdout",
          "text": [
            "After iteration 1, ans = 5\n",
            "After iteration 2, ans = 25\n",
            "After iteration 3, ans = 125\n",
            "5 to the power of 3 is: 125\n"
          ]
        }
      ]
    },
    {
      "cell_type": "markdown",
      "source": [
        "**Passing Values - Slide 5**"
      ],
      "metadata": {
        "id": "2jBw9SuXNUmk"
      }
    },
    {
      "cell_type": "code",
      "source": [
        "# Function to update a list at a given index\n",
        "def update(l, i, v):\n",
        "    if i >= 0 and i < len(l):  # Check if the index is valid\n",
        "        l[i] = v  # Update the value at index i to v\n",
        "        return True  # Return True if the update was successful\n",
        "    else:\n",
        "        v = v + 1  # Increment v if the index is invalid\n",
        "        return False  # Return False if the update failed\n",
        "\n",
        "# Example usage\n",
        "my_list = [10, 20, 30, 40, 50]  # Example list\n",
        "index = 2  # Index to update\n",
        "value = 99  # New value\n",
        "\n",
        "result = update(my_list, index, value)  # Call the function\n",
        "\n",
        "# Print results\n",
        "print(\"Update successful:\", result)\n",
        "print(\"Updated list:\", my_list)\n"
      ],
      "metadata": {
        "colab": {
          "base_uri": "https://localhost:8080/"
        },
        "id": "6i08mMxsM-DO",
        "outputId": "a2eac61d-ebfe-41fd-b361-5a8b9875b18b"
      },
      "execution_count": 6,
      "outputs": [
        {
          "output_type": "stream",
          "name": "stdout",
          "text": [
            "Update successful: True\n",
            "Updated list: [10, 20, 99, 40, 50]\n"
          ]
        }
      ]
    },
    {
      "cell_type": "markdown",
      "source": [
        "**Mutable vs Immutable**"
      ],
      "metadata": {
        "id": "rxFTm2XsPIhd"
      }
    },
    {
      "cell_type": "code",
      "source": [
        "# Function to update a list at a specific index\n",
        "def update(l, i, v):\n",
        "    if i >= 0 and i < len(l):  # Check if the index is valid\n",
        "        l[i] = v  # Update the value at index i to v\n",
        "        return True  # Return True for a successful update\n",
        "    else:\n",
        "        v = v + 1  # Increment v if the index is invalid\n",
        "        return False  # Return False for a failed update\n",
        "\n",
        "# Example usage\n",
        "ns = [3, 11, 12]  # Initial list\n",
        "z = 8  # Value to update\n",
        "\n",
        "# Perform updates\n",
        "result1 = update(ns, 2, z)  # Update index 2\n",
        "print(\"Result after update(ns, 2, z):\", ns, \", z =\", z, \", Successful:\", result1)\n",
        "\n",
        "result2 = update(ns, 4, z)  # Try updating an out-of-bounds index\n",
        "print(\"Result after update(ns, 4, z):\", ns, \", z =\", z, \", Successful:\", result2)\n"
      ],
      "metadata": {
        "colab": {
          "base_uri": "https://localhost:8080/"
        },
        "id": "Um82p4LaNdy0",
        "outputId": "46a9afc4-c893-4781-bc14-f96b830cd31e"
      },
      "execution_count": 7,
      "outputs": [
        {
          "output_type": "stream",
          "name": "stdout",
          "text": [
            "Result after update(ns, 2, z): [3, 11, 8] , z = 8 , Successful: True\n",
            "Result after update(ns, 4, z): [3, 11, 8] , z = 8 , Successful: False\n"
          ]
        }
      ]
    },
    {
      "cell_type": "markdown",
      "source": [
        "**Scope of Names - Slide 6**"
      ],
      "metadata": {
        "id": "5QTp8fXNTPOR"
      }
    },
    {
      "cell_type": "code",
      "source": [
        "# Function with local scope\n",
        "def example(x):\n",
        "    n = 17  # Local variable inside the function\n",
        "    return x  # Return the input value\n",
        "\n",
        "# Main program\n",
        "n = 7  # Global variable\n",
        "v = example(28)  # Call the function with 28\n",
        "\n",
        "# Output\n",
        "print(\"Global n:\", n)  # Global n remains unchanged\n",
        "print(\"Returned value v:\", v)  # Value returned by the function\n"
      ],
      "metadata": {
        "colab": {
          "base_uri": "https://localhost:8080/"
        },
        "id": "jPLsC1TVPNsN",
        "outputId": "4c3af883-e823-4ecb-8c10-3156820eab66"
      },
      "execution_count": 8,
      "outputs": [
        {
          "output_type": "stream",
          "name": "stdout",
          "text": [
            "Global n: 7\n",
            "Returned value v: 28\n"
          ]
        }
      ]
    },
    {
      "cell_type": "markdown",
      "source": [
        "**Defining Functions - Slide 7**"
      ],
      "metadata": {
        "id": "hhuS48bfTfVq"
      }
    },
    {
      "cell_type": "markdown",
      "source": [
        "Correct Case"
      ],
      "metadata": {
        "id": "ZSs6DYi-TrUX"
      }
    },
    {
      "cell_type": "code",
      "source": [
        "# Define g first\n",
        "def g(y):\n",
        "    return y + 3\n",
        "\n",
        "# Define f after g is defined\n",
        "def f(x):\n",
        "    return g(x + 1)\n",
        "\n",
        "# Call f after both functions are defined\n",
        "z = f(77)\n",
        "print(\"Correct Case - z:\", z)\n"
      ],
      "metadata": {
        "colab": {
          "base_uri": "https://localhost:8080/"
        },
        "id": "ZmgmiB5NTdYK",
        "outputId": "75ee790d-1f55-47dc-e65a-65a7db431e92"
      },
      "execution_count": 9,
      "outputs": [
        {
          "output_type": "stream",
          "name": "stdout",
          "text": [
            "Correct Case - z: 81\n"
          ]
        }
      ]
    },
    {
      "cell_type": "markdown",
      "source": [
        "**Recursive Functions**"
      ],
      "metadata": {
        "id": "5fUHWUAvTvTd"
      }
    },
    {
      "cell_type": "code",
      "source": [
        "# Function to compute the factorial of a number\n",
        "def factorial(n):\n",
        "    if n <= 0:  # Base case: if n is 0 or less, return 1\n",
        "        return 1\n",
        "    else:\n",
        "        val = n * factorial(n - 1)  # Recursive case\n",
        "        return val\n",
        "\n",
        "# Example usage\n",
        "number = int(input(\"Enter a number to calculate its factorial: \"))\n",
        "result = factorial(number)\n",
        "\n",
        "# Output the result\n",
        "print(f\"The factorial of {number} is: {result}\")\n"
      ],
      "metadata": {
        "colab": {
          "base_uri": "https://localhost:8080/"
        },
        "id": "TnEJzb8nTtmc",
        "outputId": "4587e9f6-fed5-40c3-b1db-c5b54249d06e"
      },
      "execution_count": 11,
      "outputs": [
        {
          "output_type": "stream",
          "name": "stdout",
          "text": [
            "Enter a number to calculate its factorial: 3\n",
            "The factorial of 3 is: 6\n"
          ]
        }
      ]
    },
    {
      "cell_type": "code",
      "source": [],
      "metadata": {
        "id": "llvaf7MvTwdn"
      },
      "execution_count": 11,
      "outputs": []
    }
  ]
}