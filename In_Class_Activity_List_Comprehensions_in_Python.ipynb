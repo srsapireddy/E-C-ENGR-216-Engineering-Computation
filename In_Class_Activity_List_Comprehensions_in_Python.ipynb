{
  "nbformat": 4,
  "nbformat_minor": 0,
  "metadata": {
    "colab": {
      "provenance": []
    },
    "kernelspec": {
      "name": "python3",
      "display_name": "Python 3"
    },
    "language_info": {
      "name": "python"
    }
  },
  "cells": [
    {
      "cell_type": "markdown",
      "source": [
        "Write a Python program to double each number in a list using list comprehension."
      ],
      "metadata": {
        "id": "IbUAh2oqfQe8"
      }
    },
    {
      "cell_type": "code",
      "execution_count": 1,
      "metadata": {
        "colab": {
          "base_uri": "https://localhost:8080/"
        },
        "id": "fV1DQZlKeYGi",
        "outputId": "38c14dce-6559-428b-872d-035bb5eca959"
      },
      "outputs": [
        {
          "output_type": "stream",
          "name": "stdout",
          "text": [
            "Doubled numbers: [2, 4, 6, 8, 10]\n"
          ]
        }
      ],
      "source": [
        "# Given list\n",
        "numbers = [1, 2, 3, 4, 5]\n",
        "\n",
        "# Use list comprehension to double each element\n",
        "doubled_numbers = [x * 2 for x in numbers]\n",
        "\n",
        "# Print the result\n",
        "print(\"Doubled numbers:\", doubled_numbers)\n"
      ]
    },
    {
      "cell_type": "markdown",
      "source": [
        "Breakdown:\n",
        "x * 2 → This is the operation applied to each element x in numbers.\n",
        "for x in numbers → This iterates over each element in numbers."
      ],
      "metadata": {
        "id": "q6XfzRDufi1Z"
      }
    },
    {
      "cell_type": "code",
      "source": [
        "numbers = [1, 2, 3, 4, 5]  # Example list\n",
        "result = []  # Empty list to store results\n",
        "\n",
        "for x in numbers:  # Iterate through each element in numbers\n",
        "    result.append(x * 2)  # Multiply by 2 and add to result list\n",
        "\n",
        "print(result)\n"
      ],
      "metadata": {
        "colab": {
          "base_uri": "https://localhost:8080/"
        },
        "id": "7xoWuFrEfSUl",
        "outputId": "36b9fead-f0ae-4f23-cd81-f8f3b1ffdece"
      },
      "execution_count": 2,
      "outputs": [
        {
          "output_type": "stream",
          "name": "stdout",
          "text": [
            "[2, 4, 6, 8, 10]\n"
          ]
        }
      ]
    },
    {
      "cell_type": "markdown",
      "source": [
        "Write a Python program to compute the square of each number in a list using list comprehension."
      ],
      "metadata": {
        "id": "RVVck48Cf2pR"
      }
    },
    {
      "cell_type": "code",
      "source": [
        "# Given list\n",
        "numbers = [1, 2, 3, 4, 5]\n",
        "\n",
        "# Use list comprehension to compute squares\n",
        "squared_numbers = [x ** 2 for x in numbers]\n",
        "\n",
        "# Print the result\n",
        "print(\"Squared numbers:\", squared_numbers)\n"
      ],
      "metadata": {
        "colab": {
          "base_uri": "https://localhost:8080/"
        },
        "id": "YYoma47WfyKD",
        "outputId": "3953760c-62fd-45d0-b8d6-1ea941ded838"
      },
      "execution_count": 3,
      "outputs": [
        {
          "output_type": "stream",
          "name": "stdout",
          "text": [
            "Squared numbers: [1, 4, 9, 16, 25]\n"
          ]
        }
      ]
    },
    {
      "cell_type": "markdown",
      "source": [
        "Using for loop"
      ],
      "metadata": {
        "id": "t392f9eigHgE"
      }
    },
    {
      "cell_type": "code",
      "source": [
        "# Given list\n",
        "numbers = [1, 2, 3, 4, 5]\n",
        "\n",
        "# Initialize an empty list to store squared numbers\n",
        "squared_numbers = []\n",
        "\n",
        "# Iterate through each number and compute its square\n",
        "for x in numbers:\n",
        "    squared_numbers.append(x ** 2)\n",
        "\n",
        "# Print the result\n",
        "print(\"Squared numbers:\", squared_numbers)\n"
      ],
      "metadata": {
        "colab": {
          "base_uri": "https://localhost:8080/"
        },
        "id": "89e0XcYnf4EK",
        "outputId": "a677cd2b-d332-4199-9bc5-0ed172aa5afe"
      },
      "execution_count": 4,
      "outputs": [
        {
          "output_type": "stream",
          "name": "stdout",
          "text": [
            "Squared numbers: [1, 4, 9, 16, 25]\n"
          ]
        }
      ]
    },
    {
      "cell_type": "markdown",
      "source": [
        "Using while loop"
      ],
      "metadata": {
        "id": "Uql18HvygJT6"
      }
    },
    {
      "cell_type": "code",
      "source": [
        "# Given list\n",
        "numbers = [1, 2, 3, 4, 5]\n",
        "\n",
        "# Initialize an empty list to store squared numbers\n",
        "squared_numbers = []\n",
        "\n",
        "# Initialize index\n",
        "i = 0\n",
        "\n",
        "# Iterate using a while loop\n",
        "while i < len(numbers):\n",
        "    squared_numbers.append(numbers[i] ** 2)  # Compute square and append to the list\n",
        "    i += 1  # Increment index\n",
        "\n",
        "# Print the result\n",
        "print(\"Squared numbers:\", squared_numbers)\n"
      ],
      "metadata": {
        "colab": {
          "base_uri": "https://localhost:8080/"
        },
        "id": "aX2mKVhCf-Zg",
        "outputId": "7154cd72-ce98-4862-f33a-0554ee9a5859"
      },
      "execution_count": 5,
      "outputs": [
        {
          "output_type": "stream",
          "name": "stdout",
          "text": [
            "Squared numbers: [1, 4, 9, 16, 25]\n"
          ]
        }
      ]
    },
    {
      "cell_type": "markdown",
      "source": [
        "Write a Python program to extract prime numbers from a list using list comprehension."
      ],
      "metadata": {
        "id": "6ZCHQc5fgN5x"
      }
    },
    {
      "cell_type": "code",
      "source": [
        "def is_prime(n):\n",
        "    if n < 2:\n",
        "        return False\n",
        "    for i in range(2, n):  # Check divisibility from 2 to n-1\n",
        "        if n % i == 0:\n",
        "            return False\n",
        "    return True\n",
        "\n",
        "numbers = [2, 10, 15, 3, 5, 7, 12, 19, 23, 30]\n",
        "\n",
        "prime_numbers = []  # List to store prime numbers\n",
        "\n",
        "# Using a for loop instead of list comprehension\n",
        "for x in numbers:\n",
        "    if is_prime(x):\n",
        "        prime_numbers.append(x)\n",
        "\n",
        "print(\"Prime numbers:\", prime_numbers)\n"
      ],
      "metadata": {
        "colab": {
          "base_uri": "https://localhost:8080/"
        },
        "id": "W0eTikoWgq-6",
        "outputId": "855c4206-991f-49fe-d9d5-949bb363d2f9"
      },
      "execution_count": 8,
      "outputs": [
        {
          "output_type": "stream",
          "name": "stdout",
          "text": [
            "Prime numbers: [2, 3, 5, 7, 19, 23]\n"
          ]
        }
      ]
    },
    {
      "cell_type": "code",
      "source": [
        "def is_prime(n):\n",
        "    if n < 2:\n",
        "        return False\n",
        "    for i in range(2, n):  # Check divisibility from 2 to n-1\n",
        "        if n % i == 0:\n",
        "            return False\n",
        "    return True\n",
        "\n",
        "numbers = [2, 10, 15, 3, 5, 7, 12, 19, 23, 30]\n",
        "\n",
        "prime_numbers = []  # List to store prime numbers\n",
        "\n",
        "# Using a for loop instead of list comprehension\n",
        "prime_numbers = [x for x in numbers if is_prime(x)]\n",
        "\n",
        "print(\"Prime numbers:\", prime_numbers)\n"
      ],
      "metadata": {
        "colab": {
          "base_uri": "https://localhost:8080/"
        },
        "id": "WG6PiqsNgtvB",
        "outputId": "228e3e1d-4bf8-4cbc-ed1a-b0bab7cb4021"
      },
      "execution_count": 10,
      "outputs": [
        {
          "output_type": "stream",
          "name": "stdout",
          "text": [
            "Prime numbers: [2, 3, 5, 7, 19, 23]\n"
          ]
        }
      ]
    },
    {
      "cell_type": "markdown",
      "source": [
        "Breakdown:\n",
        "* x for x in numbers → Iterates through each element x in numbers.\n",
        "* if is_prime(x) → Only includes x in the new list if is_prime(x) returns True."
      ],
      "metadata": {
        "id": "MUn7gI2Rg-8x"
      }
    },
    {
      "cell_type": "markdown",
      "source": [
        "Write a Python program to create a list of squares of even numbers from 1 to 10 using list comprehension."
      ],
      "metadata": {
        "id": "AX-S24ibharZ"
      }
    },
    {
      "cell_type": "code",
      "source": [
        "# Use list comprehension to get squares of even numbers\n",
        "squares_of_even = [x ** 2 for x in range(1, 11) if x % 2 == 0]\n",
        "\n",
        "# Print the result\n",
        "print(\"Squares of even numbers:\", squares_of_even)\n"
      ],
      "metadata": {
        "colab": {
          "base_uri": "https://localhost:8080/"
        },
        "id": "7SWmRFKCgPcy",
        "outputId": "5a519fb3-ee80-4315-dca0-eba84c7bb69b"
      },
      "execution_count": 11,
      "outputs": [
        {
          "output_type": "stream",
          "name": "stdout",
          "text": [
            "Squares of even numbers: [4, 16, 36, 64, 100]\n"
          ]
        }
      ]
    },
    {
      "cell_type": "code",
      "source": [
        "# Initialize an empty list to store squares of even numbers\n",
        "squares_of_even = []\n",
        "\n",
        "# Iterate through numbers from 1 to 10\n",
        "for x in range(1, 11):\n",
        "    if x % 2 == 0:  # Check if the number is even\n",
        "        squares_of_even.append(x ** 2)  # Compute square and append to the list\n",
        "\n",
        "# Print the result\n",
        "print(\"Squares of even numbers:\", squares_of_even)\n"
      ],
      "metadata": {
        "colab": {
          "base_uri": "https://localhost:8080/"
        },
        "id": "J6o-Oe6jhcHp",
        "outputId": "3c660d8d-c2cc-4573-c24b-b88715849d61"
      },
      "execution_count": 12,
      "outputs": [
        {
          "output_type": "stream",
          "name": "stdout",
          "text": [
            "Squares of even numbers: [4, 16, 36, 64, 100]\n"
          ]
        }
      ]
    },
    {
      "cell_type": "code",
      "source": [
        "# Initialize an empty list to store squares of even numbers\n",
        "squares_of_even = []\n",
        "\n",
        "# Initialize a variable for iteration\n",
        "x = 1\n",
        "\n",
        "# Iterate using while loop\n",
        "while x <= 10:\n",
        "    if x % 2 == 0:  # Check if the number is even\n",
        "        squares_of_even.append(x ** 2)  # Compute square and append to the list\n",
        "    x += 1  # Increment the counter\n",
        "\n",
        "# Print the result\n",
        "print(\"Squares of even numbers:\", squares_of_even)\n"
      ],
      "metadata": {
        "colab": {
          "base_uri": "https://localhost:8080/"
        },
        "id": "blvTM_CKhhmJ",
        "outputId": "895e82d2-2f18-4f0a-eaec-04700b862cb8"
      },
      "execution_count": 13,
      "outputs": [
        {
          "output_type": "stream",
          "name": "stdout",
          "text": [
            "Squares of even numbers: [4, 16, 36, 64, 100]\n"
          ]
        }
      ]
    },
    {
      "cell_type": "markdown",
      "source": [
        "Write a Python program to find Pythagorean triples for numbers less than 20 using list comprehension."
      ],
      "metadata": {
        "id": "uO7gxLaYhsgJ"
      }
    },
    {
      "cell_type": "code",
      "source": [
        "# Use list comprehension to find Pythagorean triples\n",
        "pythagorean_triples = [(x, y, z) for x in range(1, 20)\n",
        "                        for y in range(x, 20)  # Ensuring y >= x\n",
        "                        for z in range(y, 20)  # Ensuring z >= y\n",
        "                        if x**2 + y**2 == z**2]\n",
        "\n",
        "# Print the result\n",
        "print(\"Pythagorean triples below 20:\", pythagorean_triples)\n"
      ],
      "metadata": {
        "colab": {
          "base_uri": "https://localhost:8080/"
        },
        "id": "a0Iehm59hlwx",
        "outputId": "356086a2-b466-41fc-f69a-c325b1ceecd3"
      },
      "execution_count": 14,
      "outputs": [
        {
          "output_type": "stream",
          "name": "stdout",
          "text": [
            "Pythagorean triples below 20: [(3, 4, 5), (5, 12, 13), (6, 8, 10), (8, 15, 17), (9, 12, 15)]\n"
          ]
        }
      ]
    },
    {
      "cell_type": "code",
      "source": [
        "# Initialize an empty list to store Pythagorean triples\n",
        "pythagorean_triples = []\n",
        "\n",
        "# Iterate through possible values of x, y, and z\n",
        "for x in range(1, 20):\n",
        "    for y in range(x, 20):  # Ensuring y >= x\n",
        "        for z in range(y, 20):  # Ensuring z >= y\n",
        "            if x**2 + y**2 == z**2:  # Check if it forms a Pythagorean triple\n",
        "                pythagorean_triples.append((x, y, z))\n",
        "\n",
        "# Print the result\n",
        "print(\"Pythagorean triples below 20:\", pythagorean_triples)\n"
      ],
      "metadata": {
        "colab": {
          "base_uri": "https://localhost:8080/"
        },
        "id": "pxxrDYRAhtxI",
        "outputId": "485fd584-1e9b-4bef-b40f-8d71b8d1066e"
      },
      "execution_count": 15,
      "outputs": [
        {
          "output_type": "stream",
          "name": "stdout",
          "text": [
            "Pythagorean triples below 20: [(3, 4, 5), (5, 12, 13), (6, 8, 10), (8, 15, 17), (9, 12, 15)]\n"
          ]
        }
      ]
    },
    {
      "cell_type": "markdown",
      "source": [
        "Write a Python program to initialize a 4×3 matrix (4 rows, 3 columns) with zeros using loops and print it."
      ],
      "metadata": {
        "id": "2_257LbRiC2R"
      }
    },
    {
      "cell_type": "code",
      "source": [
        "# Initialize a 4x3 matrix with zeros\n",
        "matrix = []\n",
        "\n",
        "for j in range(4):  # 4 rows\n",
        "    row = []\n",
        "    for i in range(3):  # 3 columns\n",
        "        row.append(0)  # Add 0 to each column\n",
        "    matrix.append(row)  # Append row to the matrix\n",
        "\n",
        "# Print the matrix\n",
        "print(\"4x3 Matrix initialized with zeros:\")\n",
        "for row in matrix:\n",
        "    print(row)\n"
      ],
      "metadata": {
        "colab": {
          "base_uri": "https://localhost:8080/"
        },
        "id": "Ljhxmb6Nh8ZQ",
        "outputId": "33cb8f13-5775-48b8-d8dd-24df19110521"
      },
      "execution_count": 16,
      "outputs": [
        {
          "output_type": "stream",
          "name": "stdout",
          "text": [
            "4x3 Matrix initialized with zeros:\n",
            "[0, 0, 0]\n",
            "[0, 0, 0]\n",
            "[0, 0, 0]\n",
            "[0, 0, 0]\n"
          ]
        }
      ]
    },
    {
      "cell_type": "markdown",
      "source": [
        "This Python code initializes a 4×3 matrix filled with zeros using nested loops and then prints the matrix. It starts by defining an empty list called matrix, which will store the rows of the matrix. The outer loop runs four times (for j in range(4)), corresponding to the four rows in the matrix. Inside this loop, an empty list row is created to store the values for each row. Then, a nested inner loop runs three times (for i in range(3)), corresponding to the three columns in each row. During each iteration of the inner loop, a 0 is appended to row, effectively filling each row with three zeros. Once the inner loop completes, the fully formed row [0, 0, 0] is appended to matrix. This process repeats four times, resulting in a 4x3 matrix filled with zeros. After constructing the matrix, the code prints the message \"4x3 Matrix initialized with zeros:\" followed by a loop that iterates through each row in matrix, printing the row. The final output displays four rows, each containing three zeros, forming a complete 4x3 zero matrix."
      ],
      "metadata": {
        "id": "3X2IgssLikfI"
      }
    },
    {
      "cell_type": "markdown",
      "source": [
        "More In-built functions of lists"
      ],
      "metadata": {
        "id": "KpFm2XsfiuwR"
      }
    },
    {
      "cell_type": "code",
      "source": [
        "# Given 3x3 matrix\n",
        "matrix = [\n",
        "    [2, 4, 6],\n",
        "    [1, 3, 5],\n",
        "    [7, 8, 9]\n",
        "]\n",
        "\n",
        "# Compute sum of each row\n",
        "print(\"Row sums:\")\n",
        "for row in matrix:\n",
        "    print(sum(row))\n"
      ],
      "metadata": {
        "colab": {
          "base_uri": "https://localhost:8080/"
        },
        "id": "rhJHBwvBiEuy",
        "outputId": "0feea814-633b-4922-a31f-578fe8b44207"
      },
      "execution_count": 17,
      "outputs": [
        {
          "output_type": "stream",
          "name": "stdout",
          "text": [
            "Row sums:\n",
            "12\n",
            "9\n",
            "24\n"
          ]
        }
      ]
    },
    {
      "cell_type": "code",
      "source": [
        "# Given 3x3 matrix\n",
        "matrix = [\n",
        "    [10, 25, 8],\n",
        "    [15, 30, 20],\n",
        "    [5, 12, 50]\n",
        "]\n",
        "\n",
        "# Find the maximum value in the matrix\n",
        "max_value = max(max(row) for row in matrix)\n",
        "\n",
        "# Print the result\n",
        "print(\"Maximum value in the matrix:\", max_value)\n"
      ],
      "metadata": {
        "colab": {
          "base_uri": "https://localhost:8080/"
        },
        "id": "cbTGKsOoiylj",
        "outputId": "b0d20349-f2a6-4997-b8de-3e279cb19166"
      },
      "execution_count": 18,
      "outputs": [
        {
          "output_type": "stream",
          "name": "stdout",
          "text": [
            "Maximum value in the matrix: 50\n"
          ]
        }
      ]
    },
    {
      "cell_type": "code",
      "source": [
        "# Sample list\n",
        "numbers = [10, 5, 8, 20, 15, 5, 30, 8]\n",
        "print(\"Original List:\", numbers)\n",
        "\n",
        "# Using various inbuilt list functions\n",
        "numbers.append(25)\n",
        "print(\"After append(25):\", numbers)  # Adds 25 to the end of the list\n",
        "\n",
        "numbers.insert(2, 12)\n",
        "print(\"After insert(2, 12):\", numbers)  # Inserts 12 at index 2\n",
        "\n",
        "numbers.remove(5)\n",
        "print(\"After remove(5):\", numbers)  # Removes the first occurrence of 5\n",
        "\n",
        "popped_value = numbers.pop()\n",
        "print(\"After pop():\", numbers, \"| Popped Value:\", popped_value)  # Removes and returns the last element\n",
        "\n",
        "index_of_15 = numbers.index(15)\n",
        "print(\"Index of 15:\", index_of_15)  # Finds the index of the first occurrence of 15\n",
        "\n",
        "count_of_8 = numbers.count(8)\n",
        "print(\"Count of 8:\", count_of_8)  # Counts occurrences of 8\n",
        "\n",
        "numbers.sort()\n",
        "print(\"After sort():\", numbers)  # Sorts the list in ascending order\n",
        "\n",
        "numbers.reverse()\n",
        "print(\"After reverse():\", numbers)  # Reverses the list order\n",
        "\n",
        "copied_list = numbers.copy()\n",
        "print(\"Copied List:\", copied_list)  # Creates a copy of the list\n",
        "\n",
        "numbers.clear()\n",
        "print(\"After clear():\", numbers)  # Clears the list (should be empty)\n"
      ],
      "metadata": {
        "colab": {
          "base_uri": "https://localhost:8080/"
        },
        "id": "nyVDyEmni0L5",
        "outputId": "f3a5e603-4239-4734-ead8-767d764f3d5d"
      },
      "execution_count": 20,
      "outputs": [
        {
          "output_type": "stream",
          "name": "stdout",
          "text": [
            "Original List: [10, 5, 8, 20, 15, 5, 30, 8]\n",
            "After append(25): [10, 5, 8, 20, 15, 5, 30, 8, 25]\n",
            "After insert(2, 12): [10, 5, 12, 8, 20, 15, 5, 30, 8, 25]\n",
            "After remove(5): [10, 12, 8, 20, 15, 5, 30, 8, 25]\n",
            "After pop(): [10, 12, 8, 20, 15, 5, 30, 8] | Popped Value: 25\n",
            "Index of 15: 4\n",
            "Count of 8: 2\n",
            "After sort(): [5, 8, 8, 10, 12, 15, 20, 30]\n",
            "After reverse(): [30, 20, 15, 12, 10, 8, 8, 5]\n",
            "Copied List: [30, 20, 15, 12, 10, 8, 8, 5]\n",
            "After clear(): []\n"
          ]
        }
      ]
    },
    {
      "cell_type": "code",
      "source": [],
      "metadata": {
        "id": "cZuXlP1zjUTy"
      },
      "execution_count": null,
      "outputs": []
    }
  ]
}