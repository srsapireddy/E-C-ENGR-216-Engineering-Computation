{
  "nbformat": 4,
  "nbformat_minor": 0,
  "metadata": {
    "colab": {
      "provenance": []
    },
    "kernelspec": {
      "name": "python3",
      "display_name": "Python 3"
    },
    "language_info": {
      "name": "python"
    }
  },
  "cells": [
    {
      "cell_type": "markdown",
      "source": [
        "Print Numbers from 1 to 10\n"
      ],
      "metadata": {
        "id": "M5Nt_LAudl6S"
      }
    },
    {
      "cell_type": "code",
      "execution_count": 1,
      "metadata": {
        "id": "7Sbp6QSa8Orp",
        "colab": {
          "base_uri": "https://localhost:8080/"
        },
        "outputId": "96c533d5-0222-4ef0-d189-052783a6b746"
      },
      "outputs": [
        {
          "output_type": "stream",
          "name": "stdout",
          "text": [
            "1 2 3 4 5 6 7 8 9 10 "
          ]
        }
      ],
      "source": [
        "for i in range(1, 11):\n",
        " print(i, end=\" \")"
      ]
    },
    {
      "cell_type": "markdown",
      "source": [
        "Print Even Numbers from 1 to 20"
      ],
      "metadata": {
        "id": "QPn7fQPTdn4g"
      }
    },
    {
      "cell_type": "code",
      "source": [
        "# Printing even numbers from 1 to 20\n",
        "num = 1\n",
        "while num <= 20:\n",
        " if num % 2 == 0:\n",
        "  print(num, end=\" \")\n",
        " num += 1"
      ],
      "metadata": {
        "colab": {
          "base_uri": "https://localhost:8080/"
        },
        "id": "h2je-_IWdj7S",
        "outputId": "31d9c7f6-6023-4221-d754-ca35e813d639"
      },
      "execution_count": 2,
      "outputs": [
        {
          "output_type": "stream",
          "name": "stdout",
          "text": [
            "2 4 6 8 10 12 14 16 18 20 "
          ]
        }
      ]
    },
    {
      "cell_type": "markdown",
      "source": [
        "Calculate the Sum of the First 10 Natural Numbers\n"
      ],
      "metadata": {
        "id": "T288_k6cd255"
      }
    },
    {
      "cell_type": "code",
      "source": [
        "# Calculating sum of first 10 natural numbers\n",
        "total = 0\n",
        "for i in range(1, 11):\n",
        " total += i # total = total + i\n",
        "print(\"Sum:\", total)\n"
      ],
      "metadata": {
        "id": "EwC16cbzdq9x",
        "colab": {
          "base_uri": "https://localhost:8080/"
        },
        "outputId": "eddae83a-17d6-4c89-eac8-4e4f37f49069"
      },
      "execution_count": 7,
      "outputs": [
        {
          "output_type": "stream",
          "name": "stdout",
          "text": [
            "Sum: 55\n"
          ]
        }
      ]
    },
    {
      "cell_type": "markdown",
      "source": [
        "Reverse Counting from 10 to 1\n"
      ],
      "metadata": {
        "id": "4KS-NX3QeEb4"
      }
    },
    {
      "cell_type": "code",
      "source": [
        "# Reverse counting from 10 to 1\n",
        "for i in range(10, 0, -1):\n",
        " print(i, end=\" \")\n"
      ],
      "metadata": {
        "colab": {
          "base_uri": "https://localhost:8080/"
        },
        "id": "9g2XQBkwd9Ax",
        "outputId": "125dcd5f-96d8-4023-b926-ff43f9ca072f"
      },
      "execution_count": 4,
      "outputs": [
        {
          "output_type": "stream",
          "name": "stdout",
          "text": [
            "10 9 8 7 6 5 4 3 2 1 "
          ]
        }
      ]
    },
    {
      "cell_type": "markdown",
      "source": [
        "Print Elements of a List"
      ],
      "metadata": {
        "id": "kNfJ18qVeJk_"
      }
    },
    {
      "cell_type": "code",
      "source": [
        "# Printing elements of a list\n",
        "my_list = [5, 10, 15, 20, 25]\n",
        "for element in my_list:\n",
        " print(element, end=\" \")"
      ],
      "metadata": {
        "colab": {
          "base_uri": "https://localhost:8080/"
        },
        "id": "FWeIEEveeKAn",
        "outputId": "3b0faa2e-7b37-49e1-9c0c-714fa0d68283"
      },
      "execution_count": 5,
      "outputs": [
        {
          "output_type": "stream",
          "name": "stdout",
          "text": [
            "5 10 15 20 25 "
          ]
        }
      ]
    },
    {
      "cell_type": "markdown",
      "source": [
        "Find the First Occurrence of an Element in a List"
      ],
      "metadata": {
        "id": "p35KJlM9e3z8"
      }
    },
    {
      "cell_type": "code",
      "source": [
        "def findpos(l, v):\n",
        " for i in range(len(l)):\n",
        "  if l[i] == v:\n",
        "   return i\n",
        " return -1\n",
        "my_list = [3, 5, 7, 2, 5, 7]\n",
        "value = 5\n",
        "pos = findpos(my_list, value)\n",
        "print(f\"First occurrence of {value} is at index {pos}\")"
      ],
      "metadata": {
        "colab": {
          "base_uri": "https://localhost:8080/"
        },
        "id": "0CzjmaZjeMUo",
        "outputId": "272b5c4e-1c3f-47bf-e306-1ed3f4cd1bce"
      },
      "execution_count": 8,
      "outputs": [
        {
          "output_type": "stream",
          "name": "stdout",
          "text": [
            "First occurrence of 5 is at index 1\n"
          ]
        }
      ]
    },
    {
      "cell_type": "markdown",
      "source": [
        "Use `break` to Stop the Loop Early\n"
      ],
      "metadata": {
        "id": "UOiZ0C_LfgAs"
      }
    },
    {
      "cell_type": "code",
      "source": [
        "numbers = [1, 3, 5, 7, 9, 11]\n",
        "target = 7\n",
        "for num in numbers:\n",
        " if num == target:\n",
        "  print(\"Number found:\", num)\n",
        " break"
      ],
      "metadata": {
        "id": "LEwnVCPtfAJR"
      },
      "execution_count": 15,
      "outputs": []
    },
    {
      "cell_type": "code",
      "source": [
        "numbers = [1, 3, 5, 7, 9, 11]\n",
        "target = 7\n",
        "for num in numbers:\n",
        " if num == target:\n",
        "  print(\"Number found:\", num)\n",
        "  break"
      ],
      "metadata": {
        "colab": {
          "base_uri": "https://localhost:8080/"
        },
        "id": "2NLWO73_fmTB",
        "outputId": "dde3f34a-35ac-410f-d6d9-667fc31929fb"
      },
      "execution_count": 16,
      "outputs": [
        {
          "output_type": "stream",
          "name": "stdout",
          "text": [
            "Number found: 7\n"
          ]
        }
      ]
    },
    {
      "cell_type": "markdown",
      "source": [
        "Use `continue` to Skip Even Numbers\n"
      ],
      "metadata": {
        "id": "eUgGxtGkgYfS"
      }
    },
    {
      "cell_type": "code",
      "source": [
        "for i in range(1, 11):\n",
        " if i % 2 == 0:\n",
        "  continue\n",
        " print(i, end=\" \")"
      ],
      "metadata": {
        "colab": {
          "base_uri": "https://localhost:8080/"
        },
        "id": "_c6bpVhpgWRx",
        "outputId": "a8c455af-b891-451c-c3dd-ba0e94b7e8a2"
      },
      "execution_count": 17,
      "outputs": [
        {
          "output_type": "stream",
          "name": "stdout",
          "text": [
            "1 3 5 7 9 "
          ]
        }
      ]
    },
    {
      "cell_type": "markdown",
      "source": [
        "Use `else` with a `for` Loop"
      ],
      "metadata": {
        "id": "E6wAsNsgggxv"
      }
    },
    {
      "cell_type": "code",
      "source": [
        "numbers = [2, 4, 6, 8]\n",
        "target = 5\n",
        "for num in numbers:\n",
        " if num == target:\n",
        "  print(\"Value found:\", num)\n",
        " break\n",
        "else:\n",
        "  print(\"Value not found\")"
      ],
      "metadata": {
        "id": "NBEEWEXKgbmp"
      },
      "execution_count": 19,
      "outputs": []
    },
    {
      "cell_type": "code",
      "source": [
        "numbers = [2, 4, 6, 8]\n",
        "target = 5\n",
        "for num in numbers:\n",
        " if num == target:\n",
        "  print(\"Value found:\", num)\n",
        "  break\n",
        "else:\n",
        "  print(\"Value not found\")"
      ],
      "metadata": {
        "colab": {
          "base_uri": "https://localhost:8080/"
        },
        "id": "1BQSTQQXgkp3",
        "outputId": "aa3d0889-42f7-4a30-dad0-7fc8760b65c3"
      },
      "execution_count": 20,
      "outputs": [
        {
          "output_type": "stream",
          "name": "stdout",
          "text": [
            "Value not found\n"
          ]
        }
      ]
    },
    {
      "cell_type": "markdown",
      "source": [
        "Implement a Basic Linear Search\n"
      ],
      "metadata": {
        "id": "SFzL1sDZgsIQ"
      }
    },
    {
      "cell_type": "code",
      "source": [
        "def linear_search(arr, target):\n",
        " for i in range(len(arr)):\n",
        "  if arr[i] == target:\n",
        "   return i\n",
        " return -1\n",
        "arr = [34, 12, 5, 78, 90]\n",
        "target = 78\n",
        "result = linear_search(arr, target)\n",
        "if result != -1:\n",
        " print(f\"Element {target} found at index {result}\")\n",
        "else:\n",
        " print(f\"Element {target} not found\")"
      ],
      "metadata": {
        "colab": {
          "base_uri": "https://localhost:8080/"
        },
        "id": "9vRrXPh_grIp",
        "outputId": "617ec5c0-359c-4175-cd68-1e3166d1b1bb"
      },
      "execution_count": 22,
      "outputs": [
        {
          "output_type": "stream",
          "name": "stdout",
          "text": [
            "Element 78 found at index 3\n"
          ]
        }
      ]
    },
    {
      "cell_type": "code",
      "source": [],
      "metadata": {
        "id": "K4Los_gCgwWY"
      },
      "execution_count": null,
      "outputs": []
    }
  ]
}