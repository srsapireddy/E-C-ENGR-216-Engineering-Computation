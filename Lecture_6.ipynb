{
  "nbformat": 4,
  "nbformat_minor": 0,
  "metadata": {
    "colab": {
      "provenance": []
    },
    "kernelspec": {
      "name": "python3",
      "display_name": "Python 3"
    },
    "language_info": {
      "name": "python"
    }
  },
  "cells": [
    {
      "cell_type": "markdown",
      "source": [
        "**Example 1: Factors of a Number**"
      ],
      "metadata": {
        "id": "HbKrRzUqWMl_"
      }
    },
    {
      "cell_type": "code",
      "execution_count": 3,
      "metadata": {
        "colab": {
          "base_uri": "https://localhost:8080/"
        },
        "id": "FwVNaankVBKj",
        "outputId": "e3321ce2-8f82-49b7-a210-5e808fe800a7"
      },
      "outputs": [
        {
          "output_type": "stream",
          "name": "stdout",
          "text": [
            "Enter a number: 6\n",
            "Factors of 6 are: [1, 2, 3, 6]\n"
          ]
        }
      ],
      "source": [
        "def factors(n):\n",
        "    factorlist = []\n",
        "    for i in range(1, n + 1):\n",
        "        if n % i == 0:\n",
        "            factorlist = factorlist + [i]\n",
        "    return factorlist\n",
        "\n",
        "# Test the function\n",
        "n = int(input(\"Enter a number: \"))\n",
        "print(\"Factors of\", n, \"are:\", factors(n))\n"
      ]
    },
    {
      "cell_type": "markdown",
      "source": [
        "**Example 2 - Primes**"
      ],
      "metadata": {
        "id": "eMBotWONWXEr"
      }
    },
    {
      "cell_type": "code",
      "source": [
        "def factors(n):\n",
        "    factorlist = []\n",
        "    for i in range(1, n + 1):\n",
        "        if n % i == 0:\n",
        "            factorlist.append(i)\n",
        "    return factorlist\n",
        "\n",
        "def isprime(n):\n",
        "    return factors(n) == [1, n]\n",
        "\n",
        "# Test the functions\n",
        "n = int(input(\"Enter a number: \"))\n",
        "if isprime(n):\n",
        "    print(f\"{n} is a prime number.\")\n",
        "else:\n",
        "    print(f\"{n} is not a prime number.\")"
      ],
      "metadata": {
        "colab": {
          "base_uri": "https://localhost:8080/"
        },
        "id": "OSX4JcELWSlI",
        "outputId": "b7ab60ac-95eb-40a8-cd7c-163ba0db831a"
      },
      "execution_count": 4,
      "outputs": [
        {
          "output_type": "stream",
          "name": "stdout",
          "text": [
            "Enter a number: 17\n",
            "17 is a prime number.\n"
          ]
        }
      ]
    },
    {
      "cell_type": "markdown",
      "source": [
        "**Example 3: Pimes up to n**"
      ],
      "metadata": {
        "id": "KrQ77-SdWqCO"
      }
    },
    {
      "cell_type": "code",
      "source": [
        "def factors(n):\n",
        "    factorlist = []\n",
        "    for i in range(1, n + 1):\n",
        "        if n % i == 0:\n",
        "            factorlist.append(i)\n",
        "    return factorlist\n",
        "\n",
        "def isprime(n):\n",
        "    return factors(n) == [1, n]\n",
        "\n",
        "def primesupto(n):\n",
        "    primelist = []\n",
        "    for i in range(1, n + 1):\n",
        "        if isprime(i):\n",
        "            primelist.append(i)\n",
        "    return primelist\n",
        "\n",
        "# Test the functions\n",
        "n = int(input(\"Enter a number: \"))\n",
        "print(f\"Prime numbers up to {n}: {primesupto(n)}\")\n"
      ],
      "metadata": {
        "colab": {
          "base_uri": "https://localhost:8080/"
        },
        "id": "vY5tIyYlWiVD",
        "outputId": "c67b3aef-0b65-4c66-9122-674a231b36be"
      },
      "execution_count": 5,
      "outputs": [
        {
          "output_type": "stream",
          "name": "stdout",
          "text": [
            "Enter a number: 6\n",
            "Prime numbers up to 6: [2, 3, 5]\n"
          ]
        }
      ]
    },
    {
      "cell_type": "markdown",
      "source": [
        "**Example 5: for and while loop**"
      ],
      "metadata": {
        "id": "nKr3sbnmYRn1"
      }
    },
    {
      "cell_type": "code",
      "source": [
        "# Using for loop\n",
        "def for_loop_range(i, j):\n",
        "    print(\"For loop:\")\n",
        "    for n in range(i, j):\n",
        "        print(f\"Processing {n}\")\n",
        "\n",
        "# Using while loop\n",
        "def while_loop_range(i, j):\n",
        "    print(\"While loop:\")\n",
        "    n = i\n",
        "    while n < j:\n",
        "        print(f\"Processing {n}\")\n",
        "        n = n + 1\n",
        "\n",
        "# Test the comparison\n",
        "i = int(input(\"Enter the start value (i): \"))\n",
        "j = int(input(\"Enter the end value (j): \"))\n",
        "\n",
        "print(\"\\nComparing for loop and while loop:\")\n",
        "for_loop_range(i, j)\n",
        "while_loop_range(i, j)\n"
      ],
      "metadata": {
        "colab": {
          "base_uri": "https://localhost:8080/"
        },
        "id": "_CZJDYvLXOoc",
        "outputId": "bee5dcb4-9676-4299-867d-1c644fbb68d7"
      },
      "execution_count": 9,
      "outputs": [
        {
          "output_type": "stream",
          "name": "stdout",
          "text": [
            "Enter the start value (i): 0\n",
            "Enter the end value (j): 3\n",
            "\n",
            "Comparing for loop and while loop:\n",
            "For loop:\n",
            "Processing 0\n",
            "Processing 1\n",
            "Processing 2\n",
            "While loop:\n",
            "Processing 0\n",
            "Processing 1\n",
            "Processing 2\n"
          ]
        }
      ]
    },
    {
      "cell_type": "code",
      "source": [],
      "metadata": {
        "id": "kjQnR7P2Yq-M"
      },
      "execution_count": null,
      "outputs": []
    }
  ]
}