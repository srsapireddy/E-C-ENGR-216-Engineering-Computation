{
  "nbformat": 4,
  "nbformat_minor": 0,
  "metadata": {
    "colab": {
      "provenance": []
    },
    "kernelspec": {
      "name": "python3",
      "display_name": "Python 3"
    },
    "language_info": {
      "name": "python"
    }
  },
  "cells": [
    {
      "cell_type": "markdown",
      "source": [
        "1. Lists are Mutable"
      ],
      "metadata": {
        "id": "8U6NMDSx2GNx"
      }
    },
    {
      "cell_type": "code",
      "execution_count": 1,
      "metadata": {
        "colab": {
          "base_uri": "https://localhost:8080/"
        },
        "id": "E2u8PmgS13ae",
        "outputId": "e2a47718-3dd0-4407-86aa-f21d0529061c"
      },
      "outputs": [
        {
          "output_type": "stream",
          "name": "stdout",
          "text": [
            "list1: [1, 3, 7, 6]\n",
            "list2: [1, 3, 7, 6]\n"
          ]
        }
      ],
      "source": [
        "list1 = [1, 3, 5, 6]\n",
        "list2 = list1  # list2 references the same object\n",
        "list1[2] = 7  # Modify list1\n",
        "print(\"list1:\", list1)\n",
        "print(\"list2:\", list2)  # list2 also changes because both reference the same list\n"
      ]
    },
    {
      "cell_type": "markdown",
      "source": [
        "2. List Concatenation Produces a New List"
      ],
      "metadata": {
        "id": "mSNjFM4_2JEo"
      }
    },
    {
      "cell_type": "code",
      "source": [
        "list1 = [1, 3, 5, 6]\n",
        "list2 = list1  # list2 references list1\n",
        "list1 = list1[0:2] + [7] + list1[3:]  # Creates a new list\n",
        "print(\"list1:\", list1)\n",
        "print(\"list2:\", list2)  # list2 remains unchanged\n"
      ],
      "metadata": {
        "colab": {
          "base_uri": "https://localhost:8080/"
        },
        "id": "KDBRI4rN2ImF",
        "outputId": "3b6fed51-de77-45b8-f1d0-1faa037eef33"
      },
      "execution_count": 2,
      "outputs": [
        {
          "output_type": "stream",
          "name": "stdout",
          "text": [
            "list1: [1, 3, 7, 6]\n",
            "list2: [1, 3, 5, 6]\n"
          ]
        }
      ]
    },
    {
      "cell_type": "markdown",
      "source": [
        "3. Extending a List In-Place"
      ],
      "metadata": {
        "id": "iXdTImtQ2Nty"
      }
    },
    {
      "cell_type": "code",
      "source": [
        "list1 = [1, 3, 5, 6]\n",
        "list2 = list1\n",
        "list1.append(12)  # Modify in place\n",
        "print(\"list1:\", list1)\n",
        "print(\"list2:\", list2)  # list2 also changes\n"
      ],
      "metadata": {
        "colab": {
          "base_uri": "https://localhost:8080/"
        },
        "id": "Dk59vCsz2L4K",
        "outputId": "3160b470-96f0-45f3-90d5-c0fe086e761e"
      },
      "execution_count": 3,
      "outputs": [
        {
          "output_type": "stream",
          "name": "stdout",
          "text": [
            "list1: [1, 3, 5, 6, 12]\n",
            "list2: [1, 3, 5, 6, 12]\n"
          ]
        }
      ]
    },
    {
      "cell_type": "markdown",
      "source": [
        "4. List Concatenation Creates a New List"
      ],
      "metadata": {
        "id": "ac85dKOT2QQ7"
      }
    },
    {
      "cell_type": "code",
      "source": [
        "list1 = [1, 3, 5, 6]\n",
        "list2 = list1\n",
        "list1 = list1 + [12]  # Creates a new list\n",
        "print(\"list1:\", list1)\n",
        "print(\"list2:\", list2)  # list2 remains unchanged\n"
      ],
      "metadata": {
        "colab": {
          "base_uri": "https://localhost:8080/"
        },
        "id": "sNav9F3X2PVz",
        "outputId": "68ee8f11-a5bd-4227-e784-8cbae01fe58d"
      },
      "execution_count": 4,
      "outputs": [
        {
          "output_type": "stream",
          "name": "stdout",
          "text": [
            "list1: [1, 3, 5, 6, 12]\n",
            "list2: [1, 3, 5, 6]\n"
          ]
        }
      ]
    },
    {
      "cell_type": "markdown",
      "source": [
        "5. List Functions"
      ],
      "metadata": {
        "id": "ycxtTcQn2T5U"
      }
    },
    {
      "cell_type": "code",
      "source": [
        "list1 = [1, 3, 5, 6]\n",
        "list1.append(8)  # Add a single value\n",
        "print(\"After append:\", list1)\n",
        "\n",
        "list1.extend([10, 12])  # Extend list by multiple values\n",
        "print(\"After extend:\", list1)\n",
        "\n",
        "list1.remove(3)  # Remove first occurrence of 3\n",
        "print(\"After remove:\", list1)\n"
      ],
      "metadata": {
        "colab": {
          "base_uri": "https://localhost:8080/"
        },
        "id": "SU_AlpsG2TSb",
        "outputId": "1d90c8ee-baf0-4777-c2b3-8abbf6ad10c7"
      },
      "execution_count": 5,
      "outputs": [
        {
          "output_type": "stream",
          "name": "stdout",
          "text": [
            "After append: [1, 3, 5, 6, 8]\n",
            "After extend: [1, 3, 5, 6, 8, 10, 12]\n",
            "After remove: [1, 5, 6, 8, 10, 12]\n"
          ]
        }
      ]
    },
    {
      "cell_type": "markdown",
      "source": [
        "6. Assigning to a Slice"
      ],
      "metadata": {
        "id": "chJ-7Ywy2XJw"
      }
    },
    {
      "cell_type": "code",
      "source": [
        "list1 = [1, 3, 5, 6]\n",
        "list2 = list1\n",
        "list1[2:] = [7, 8]  # Modify slice in place\n",
        "print(\"list1:\", list1)\n",
        "print(\"list2:\", list2)  # list2 also changes\n"
      ],
      "metadata": {
        "colab": {
          "base_uri": "https://localhost:8080/"
        },
        "id": "6wwNlmmo2Wi0",
        "outputId": "57c3ad17-d09c-4472-db2c-3c897eddc8ce"
      },
      "execution_count": 6,
      "outputs": [
        {
          "output_type": "stream",
          "name": "stdout",
          "text": [
            "list1: [1, 3, 7, 8]\n",
            "list2: [1, 3, 7, 8]\n"
          ]
        }
      ]
    },
    {
      "cell_type": "markdown",
      "source": [
        "7. List Membership"
      ],
      "metadata": {
        "id": "9nHZwjdl2aSp"
      }
    },
    {
      "cell_type": "code",
      "source": [
        "l = [1, 2, 3, 4, 5]\n",
        "x = 3\n",
        "\n",
        "if x in l:\n",
        "    l.remove(x)  # Remove first occurrence of x\n",
        "print(\"After single remove:\", l)\n",
        "\n",
        "while x in l:\n",
        "    l.remove(x)  # Remove all occurrences of x\n",
        "print(\"After all removes:\", l)\n"
      ],
      "metadata": {
        "colab": {
          "base_uri": "https://localhost:8080/"
        },
        "id": "QQ81bZDT2Zoj",
        "outputId": "79409edd-41af-4f73-c1dc-322d9b91f4b5"
      },
      "execution_count": 7,
      "outputs": [
        {
          "output_type": "stream",
          "name": "stdout",
          "text": [
            "After single remove: [1, 2, 4, 5]\n",
            "After all removes: [1, 2, 4, 5]\n"
          ]
        }
      ]
    },
    {
      "cell_type": "markdown",
      "source": [
        "8. Other List Functions"
      ],
      "metadata": {
        "id": "6njWB5gz2dXl"
      }
    },
    {
      "cell_type": "code",
      "source": [
        "l = [4, 2, 9, 1]\n",
        "l.reverse()\n",
        "print(\"Reversed:\", l)\n",
        "\n",
        "l.sort()\n",
        "print(\"Sorted:\", l)\n",
        "\n",
        "index = l.index(2) if 2 in l else None\n",
        "print(\"Index of 2:\", index)\n"
      ],
      "metadata": {
        "colab": {
          "base_uri": "https://localhost:8080/"
        },
        "id": "tpFjA6a82czy",
        "outputId": "bb07377f-be5b-4cd5-cdcc-7d323bf926bb"
      },
      "execution_count": 8,
      "outputs": [
        {
          "output_type": "stream",
          "name": "stdout",
          "text": [
            "Reversed: [1, 9, 2, 4]\n",
            "Sorted: [1, 2, 4, 9]\n",
            "Index of 2: 1\n"
          ]
        }
      ]
    },
    {
      "cell_type": "markdown",
      "source": [
        "10. Initializing Lists in Functions"
      ],
      "metadata": {
        "id": "z9QK2EMh2n2U"
      }
    },
    {
      "cell_type": "code",
      "source": [
        "def factors(n):\n",
        "    flist = []\n",
        "    for i in range(1, n + 1):\n",
        "        if n % i == 0:\n",
        "            flist.append(i)\n",
        "    return flist\n",
        "\n",
        "print(\"Factors of 12:\", factors(12))\n"
      ],
      "metadata": {
        "colab": {
          "base_uri": "https://localhost:8080/"
        },
        "id": "B4xI4vtz2kDx",
        "outputId": "829c4f54-f46a-4ed6-cc58-106ba9669807"
      },
      "execution_count": 10,
      "outputs": [
        {
          "output_type": "stream",
          "name": "stdout",
          "text": [
            "Factors of 12: [1, 2, 3, 4, 6, 12]\n"
          ]
        }
      ]
    },
    {
      "cell_type": "markdown",
      "source": [
        "11. Summary"
      ],
      "metadata": {
        "id": "C20eqWYo2pxM"
      }
    },
    {
      "cell_type": "code",
      "source": [
        "l = [1, 2, 3]\n",
        "l.append(4)  # Extending in place\n",
        "print(\"Append:\", l)\n",
        "\n",
        "l.extend([5, 6])\n",
        "print(\"Extend:\", l)\n",
        "\n",
        "l[2:] = [9, 10]  # Assigning to a slice\n",
        "print(\"Slice update:\", l)\n"
      ],
      "metadata": {
        "colab": {
          "base_uri": "https://localhost:8080/"
        },
        "id": "oXJS3JBI2pH9",
        "outputId": "f4a47f73-b136-4506-de20-53d99df07fb4"
      },
      "execution_count": 11,
      "outputs": [
        {
          "output_type": "stream",
          "name": "stdout",
          "text": [
            "Append: [1, 2, 3, 4]\n",
            "Extend: [1, 2, 3, 4, 5, 6]\n",
            "Slice update: [1, 2, 9, 10]\n"
          ]
        }
      ]
    },
    {
      "cell_type": "code",
      "source": [],
      "metadata": {
        "id": "ph4uWQDe2smg"
      },
      "execution_count": null,
      "outputs": []
    }
  ]
}