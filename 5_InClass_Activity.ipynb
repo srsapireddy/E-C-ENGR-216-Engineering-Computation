{
  "nbformat": 4,
  "nbformat_minor": 0,
  "metadata": {
    "colab": {
      "provenance": []
    },
    "kernelspec": {
      "name": "python3",
      "display_name": "Python 3"
    },
    "language_info": {
      "name": "python"
    }
  },
  "cells": [
    {
      "cell_type": "code",
      "execution_count": 1,
      "metadata": {
        "colab": {
          "base_uri": "https://localhost:8080/"
        },
        "id": "EFTV36zVHR13",
        "outputId": "35a7930e-8182-41a7-c1d9-4f98642c73fa"
      },
      "outputs": [
        {
          "output_type": "stream",
          "name": "stdout",
          "text": [
            "1\n",
            "2\n",
            "3\n",
            "4\n",
            "5\n"
          ]
        }
      ],
      "source": [
        "# Print numbers from 1 to 5\n",
        "for i in range(1, 6):\n",
        "    print(i)\n"
      ]
    },
    {
      "cell_type": "code",
      "source": [
        "# Print numbers from 1 to 5 using while loop\n",
        "i = 1\n",
        "while i <= 5:\n",
        "    print(i)\n",
        "    i += 1  # Increment i by 1\n"
      ],
      "metadata": {
        "colab": {
          "base_uri": "https://localhost:8080/"
        },
        "id": "yJPVRoTpHVOO",
        "outputId": "938890c1-2ae9-46ff-f5c7-f4def820fcdc"
      },
      "execution_count": 2,
      "outputs": [
        {
          "output_type": "stream",
          "name": "stdout",
          "text": [
            "1\n",
            "2\n",
            "3\n",
            "4\n",
            "5\n"
          ]
        }
      ]
    },
    {
      "cell_type": "code",
      "source": [
        "# Stop loop when number 3 is found\n",
        "for i in range(1, 6):\n",
        "    if i == 3:\n",
        "        print(\"Found 3, stopping!\")\n",
        "        break\n",
        "    print(i)\n"
      ],
      "metadata": {
        "colab": {
          "base_uri": "https://localhost:8080/"
        },
        "id": "_8nu2v-lHWup",
        "outputId": "9d33be2f-b90c-4a10-9628-9182d1ed7614"
      },
      "execution_count": 3,
      "outputs": [
        {
          "output_type": "stream",
          "name": "stdout",
          "text": [
            "1\n",
            "2\n",
            "Found 3, stopping!\n"
          ]
        }
      ]
    },
    {
      "cell_type": "code",
      "source": [
        "# Check if a number is in the list\n",
        "nums = [1, 2, 4, 5]\n",
        "for num in nums:\n",
        "    if num == 3:\n",
        "        print(\"Found 3!\")\n",
        "        break\n",
        "else:\n",
        "    print(\"3 not found!\")\n"
      ],
      "metadata": {
        "colab": {
          "base_uri": "https://localhost:8080/"
        },
        "id": "zaIhww69HYlG",
        "outputId": "f2137507-2ac3-4f24-9c75-e027d71d18bd"
      },
      "execution_count": 4,
      "outputs": [
        {
          "output_type": "stream",
          "name": "stdout",
          "text": [
            "3 not found!\n"
          ]
        }
      ]
    },
    {
      "cell_type": "markdown",
      "source": [
        "Simple Search in a List (for Loop)"
      ],
      "metadata": {
        "id": "VXue25NAHhfc"
      }
    },
    {
      "cell_type": "code",
      "source": [
        "# Find if a number exists in a list\n",
        "def findpos(l, v):\n",
        "    for i, x in enumerate(l):\n",
        "        if x == v:\n",
        "            return i  # Return position\n",
        "    return -1  # Not found\n",
        "\n",
        "# Example\n",
        "nums = [10, 20, 30, 40]\n",
        "print(findpos(nums, 30))  # Output: 2\n"
      ],
      "metadata": {
        "colab": {
          "base_uri": "https://localhost:8080/"
        },
        "id": "2zN4bOgjHaff",
        "outputId": "617be289-6be4-4ec4-dd35-484d667d6be6"
      },
      "execution_count": 5,
      "outputs": [
        {
          "output_type": "stream",
          "name": "stdout",
          "text": [
            "2\n"
          ]
        }
      ]
    },
    {
      "cell_type": "markdown",
      "source": [
        "![image.png](data:image/png;base64,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)"
      ],
      "metadata": {
        "id": "Kw00N2E-H7i2"
      }
    },
    {
      "cell_type": "markdown",
      "source": [
        "Search Using while Loop - Step-by-Step Search"
      ],
      "metadata": {
        "id": "ouguwCWyIV8C"
      }
    },
    {
      "cell_type": "code",
      "source": [
        "# Find position of value using while loop\n",
        "def findpos(l, v):\n",
        "    i = 0\n",
        "    while i < len(l):\n",
        "        if l[i] == v:\n",
        "            return i\n",
        "        i += 1\n",
        "    return -1  # Not found\n",
        "\n",
        "# Example\n",
        "nums = [100, 200, 300]\n",
        "print(findpos(nums, 300))  # Output: 2\n"
      ],
      "metadata": {
        "colab": {
          "base_uri": "https://localhost:8080/"
        },
        "id": "u57-GsMrHjJY",
        "outputId": "6cabec5f-81d6-4b32-b487-837ba2a54b90"
      },
      "execution_count": 6,
      "outputs": [
        {
          "output_type": "stream",
          "name": "stdout",
          "text": [
            "2\n"
          ]
        }
      ]
    },
    {
      "cell_type": "markdown",
      "source": [
        "Efficient Search Using for + else (Best Practice)"
      ],
      "metadata": {
        "id": "D7JLZQfTIkNk"
      }
    },
    {
      "cell_type": "code",
      "source": [
        "# Efficient search with for + else\n",
        "def findpos(l, v):\n",
        "    for i, x in enumerate(l):\n",
        "        if x == v:\n",
        "            return i  # Return position immediately\n",
        "    else:\n",
        "        return -1  # Only if not found\n",
        "\n",
        "# Example\n",
        "nums = [5, 10, 15, 20]\n",
        "print(findpos(nums, 15))  # Output: 2\n"
      ],
      "metadata": {
        "colab": {
          "base_uri": "https://localhost:8080/"
        },
        "id": "5mKFsLHlIYUO",
        "outputId": "cd2ecee3-bc0a-4e66-d62a-a44265bedac0"
      },
      "execution_count": 9,
      "outputs": [
        {
          "output_type": "stream",
          "name": "stdout",
          "text": [
            "2\n"
          ]
        }
      ]
    },
    {
      "cell_type": "code",
      "source": [
        "# Efficient search with for loop (without enumerate)\n",
        "def findpos(l, v):\n",
        "    for i in range(len(l)):  # Loop using index from 0 to length of list\n",
        "        if l[i] == v:       # Compare value at index i\n",
        "            return i        # Return index immediately if found\n",
        "    else:\n",
        "        return -1  # Runs only if the loop completes without break (value not found)\n",
        "\n",
        "# Example\n",
        "nums = [5, 10, 15, 20]\n",
        "print(findpos(nums, 15))  # Output: 2\n"
      ],
      "metadata": {
        "colab": {
          "base_uri": "https://localhost:8080/"
        },
        "id": "nUHDqa87I584",
        "outputId": "8f774d0c-9ae5-404d-d5e3-3e2018848bd4"
      },
      "execution_count": 10,
      "outputs": [
        {
          "output_type": "stream",
          "name": "stdout",
          "text": [
            "2\n"
          ]
        }
      ]
    },
    {
      "cell_type": "code",
      "source": [
        "# Efficient search with while loop (without enumerate)\n",
        "def findpos(l, v):\n",
        "    i = 0  # Start from the first index\n",
        "    while i < len(l):\n",
        "        if l[i] == v:  # Check if value matches\n",
        "            return i   # Return the current index immediately if found\n",
        "        i += 1        # Move to the next index\n",
        "    else:\n",
        "        return -1  # Only runs if loop completes without break (value not found)\n",
        "\n",
        "# Example\n",
        "nums = [5, 10, 15, 20]\n",
        "print(findpos(nums, 15))  # Output: 2\n"
      ],
      "metadata": {
        "colab": {
          "base_uri": "https://localhost:8080/"
        },
        "id": "331y4VQ3I6Q2",
        "outputId": "4f255046-320a-42c0-bf3a-bbab43708a13"
      },
      "execution_count": 11,
      "outputs": [
        {
          "output_type": "stream",
          "name": "stdout",
          "text": [
            "2\n"
          ]
        }
      ]
    },
    {
      "cell_type": "code",
      "source": [],
      "metadata": {
        "id": "HNAkmaF9I_GM"
      },
      "execution_count": null,
      "outputs": []
    }
  ]
}