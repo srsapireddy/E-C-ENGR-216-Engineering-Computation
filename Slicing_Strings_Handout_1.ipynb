{
  "nbformat": 4,
  "nbformat_minor": 0,
  "metadata": {
    "colab": {
      "provenance": []
    },
    "kernelspec": {
      "name": "python3",
      "display_name": "Python 3"
    },
    "language_info": {
      "name": "python"
    }
  },
  "cells": [
    {
      "cell_type": "markdown",
      "source": [
        "**Various slicing techniques for s = \"hello\"**"
      ],
      "metadata": {
        "id": "AYal2xFEDO8L"
      }
    },
    {
      "cell_type": "code",
      "execution_count": 1,
      "metadata": {
        "colab": {
          "base_uri": "https://localhost:8080/"
        },
        "id": "RSzLoEkECW3v",
        "outputId": "5ae7fd12-d4a5-4250-f4b0-548b8c3731ea"
      },
      "outputs": [
        {
          "output_type": "stream",
          "name": "stdout",
          "text": [
            "ell\n",
            "hel\n",
            "llo\n",
            "hello\n",
            "ell\n",
            "hlo\n",
            "olleh\n",
            "hello\n",
            "hlo\n"
          ]
        }
      ],
      "source": [
        "s = \"hello\"\n",
        "print(s[1:4])       # \"ell\" - Substring from index 1 to 3\n",
        "print(s[:3])        # \"hel\" - From start to index 2\n",
        "print(s[2:])        # \"llo\" - From index 2 to the end\n",
        "print(s[:])         # \"hello\" - The whole string\n",
        "print(s[-4:-1])     # \"ell\" - Using negative indices\n",
        "print(s[0:5:2])     # \"hlo\" - Every second character\n",
        "print(s[::-1])      # \"olleh\" - Reverse the string\n",
        "print(s[::])        # \"hello\" - Default full slice\n",
        "print(s[::2])       # \"hlo\" - Skip every second character"
      ]
    },
    {
      "cell_type": "markdown",
      "source": [
        "**More examples with negative numbers**"
      ],
      "metadata": {
        "id": "L4idJuT3DRcw"
      }
    },
    {
      "cell_type": "code",
      "source": [
        "s = \"hello\"\n",
        "\n",
        "print(s[-1])        # \"o\" - Last character\n",
        "print(s[-5])        # \"h\" - First character (using negative index)\n",
        "print(s[-4:-1])     # \"ell\" - From 2nd to 4th character (negative indices)\n",
        "print(s[-4:])       # \"ello\" - From 2nd character to the end\n",
        "print(s[:-2])       # \"hel\" - From the start up to 2nd last character\n",
        "print(s[-3:])       # \"llo\" - Last three characters\n",
        "print(s[:-1])       # \"hell\" - All but the last character"
      ],
      "metadata": {
        "colab": {
          "base_uri": "https://localhost:8080/"
        },
        "id": "E6ym7Rp5C26H",
        "outputId": "81a79138-da5f-4f0e-a6e1-f4f52e42f27d"
      },
      "execution_count": 2,
      "outputs": [
        {
          "output_type": "stream",
          "name": "stdout",
          "text": [
            "o\n",
            "h\n",
            "ell\n",
            "ello\n",
            "hel\n",
            "llo\n",
            "hell\n"
          ]
        }
      ]
    },
    {
      "cell_type": "code",
      "source": [],
      "metadata": {
        "id": "3Kx2jMarDiG2"
      },
      "execution_count": null,
      "outputs": []
    }
  ]
}