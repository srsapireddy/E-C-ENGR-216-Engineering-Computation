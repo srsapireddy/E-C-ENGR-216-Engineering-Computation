{
  "nbformat": 4,
  "nbformat_minor": 0,
  "metadata": {
    "colab": {
      "provenance": []
    },
    "kernelspec": {
      "name": "python3",
      "display_name": "Python 3"
    },
    "language_info": {
      "name": "python"
    }
  },
  "cells": [
    {
      "cell_type": "markdown",
      "source": [
        "**Lists - Slide 5**"
      ],
      "metadata": {
        "id": "-fvE-nRnt_yv"
      }
    },
    {
      "cell_type": "code",
      "execution_count": 1,
      "metadata": {
        "id": "bFgHO7njt9f8"
      },
      "outputs": [],
      "source": [
        "nested = [[2,[37]],4,[\"hello\"]]"
      ]
    },
    {
      "cell_type": "code",
      "source": [
        "nested"
      ],
      "metadata": {
        "colab": {
          "base_uri": "https://localhost:8080/"
        },
        "id": "8g4RJpO1uPQO",
        "outputId": "b0aef638-0f23-44d6-f0c8-78ce12779b04"
      },
      "execution_count": 2,
      "outputs": [
        {
          "output_type": "execute_result",
          "data": {
            "text/plain": [
              "[[2, [37]], 4, ['hello']]"
            ]
          },
          "metadata": {},
          "execution_count": 2
        }
      ]
    },
    {
      "cell_type": "code",
      "source": [
        "nested[0]"
      ],
      "metadata": {
        "colab": {
          "base_uri": "https://localhost:8080/"
        },
        "id": "_l3jcCwtuQGH",
        "outputId": "4d36ec81-52cc-485b-c75a-de0c39f6960d"
      },
      "execution_count": 3,
      "outputs": [
        {
          "output_type": "execute_result",
          "data": {
            "text/plain": [
              "[2, [37]]"
            ]
          },
          "metadata": {},
          "execution_count": 3
        }
      ]
    },
    {
      "cell_type": "code",
      "source": [
        "nested[1]"
      ],
      "metadata": {
        "colab": {
          "base_uri": "https://localhost:8080/"
        },
        "id": "PYMeRShkuTum",
        "outputId": "de2a3a22-a8b7-4b79-ec4e-6b2d72ed111e"
      },
      "execution_count": 4,
      "outputs": [
        {
          "output_type": "execute_result",
          "data": {
            "text/plain": [
              "4"
            ]
          },
          "metadata": {},
          "execution_count": 4
        }
      ]
    },
    {
      "cell_type": "code",
      "source": [
        "nested[2][0][3]"
      ],
      "metadata": {
        "colab": {
          "base_uri": "https://localhost:8080/",
          "height": 36
        },
        "id": "w8L65G4DuU0V",
        "outputId": "27f42851-ead0-4167-9614-599daf27042f"
      },
      "execution_count": 5,
      "outputs": [
        {
          "output_type": "execute_result",
          "data": {
            "text/plain": [
              "'l'"
            ],
            "application/vnd.google.colaboratory.intrinsic+json": {
              "type": "string"
            }
          },
          "metadata": {},
          "execution_count": 5
        }
      ]
    },
    {
      "cell_type": "code",
      "source": [
        "nested[0][1:2]"
      ],
      "metadata": {
        "colab": {
          "base_uri": "https://localhost:8080/"
        },
        "id": "zjUfkdcZuXuu",
        "outputId": "5b187e4c-5725-4b8f-dea5-633ad152fd49"
      },
      "execution_count": 6,
      "outputs": [
        {
          "output_type": "execute_result",
          "data": {
            "text/plain": [
              "[[37]]"
            ]
          },
          "metadata": {},
          "execution_count": 6
        }
      ]
    },
    {
      "cell_type": "markdown",
      "source": [
        "**Lists - Slide 6**"
      ],
      "metadata": {
        "id": "1WjC5AEduv0f"
      }
    },
    {
      "cell_type": "code",
      "source": [
        "nested[1] = 7"
      ],
      "metadata": {
        "id": "ypjnk0WyucOY"
      },
      "execution_count": 7,
      "outputs": []
    },
    {
      "cell_type": "code",
      "source": [
        "nested"
      ],
      "metadata": {
        "colab": {
          "base_uri": "https://localhost:8080/"
        },
        "id": "X331IYetvAY4",
        "outputId": "99b39963-eeb3-4301-ef60-f0fe459321cd"
      },
      "execution_count": 8,
      "outputs": [
        {
          "output_type": "execute_result",
          "data": {
            "text/plain": [
              "[[2, [37]], 7, ['hello']]"
            ]
          },
          "metadata": {},
          "execution_count": 8
        }
      ]
    },
    {
      "cell_type": "code",
      "source": [
        "nested[0][1][0] = 19"
      ],
      "metadata": {
        "id": "H_aFIdADvA1g"
      },
      "execution_count": 9,
      "outputs": []
    },
    {
      "cell_type": "code",
      "source": [
        "nested"
      ],
      "metadata": {
        "colab": {
          "base_uri": "https://localhost:8080/"
        },
        "id": "TS3N8YJNvEHP",
        "outputId": "cfdadfa7-1b14-4dd3-8f7c-670a41c13942"
      },
      "execution_count": 10,
      "outputs": [
        {
          "output_type": "execute_result",
          "data": {
            "text/plain": [
              "[[2, [19]], 7, ['hello']]"
            ]
          },
          "metadata": {},
          "execution_count": 10
        }
      ]
    },
    {
      "cell_type": "markdown",
      "source": [
        "**Mutable vs Immutable - Slide 7**"
      ],
      "metadata": {
        "id": "mFDTLKiZvesw"
      }
    },
    {
      "cell_type": "markdown",
      "source": [
        "Immutable Values: int, float, bool, str"
      ],
      "metadata": {
        "id": "zMHnp2cxwnII"
      }
    },
    {
      "cell_type": "code",
      "source": [
        "x = 5\n",
        "y = x\n",
        "y"
      ],
      "metadata": {
        "colab": {
          "base_uri": "https://localhost:8080/"
        },
        "id": "N5bW3FlcvFBo",
        "outputId": "46bc2e25-f74a-4c2e-87d7-9eb1ba74c226"
      },
      "execution_count": 11,
      "outputs": [
        {
          "output_type": "execute_result",
          "data": {
            "text/plain": [
              "5"
            ]
          },
          "metadata": {},
          "execution_count": 11
        }
      ]
    },
    {
      "cell_type": "code",
      "source": [
        "x = 7\n",
        "y"
      ],
      "metadata": {
        "colab": {
          "base_uri": "https://localhost:8080/"
        },
        "id": "4v3TYwQtvoBS",
        "outputId": "4fa60f93-97b4-4184-df14-ea5a538fdbd6"
      },
      "execution_count": 12,
      "outputs": [
        {
          "output_type": "execute_result",
          "data": {
            "text/plain": [
              "5"
            ]
          },
          "metadata": {},
          "execution_count": 12
        }
      ]
    },
    {
      "cell_type": "markdown",
      "source": [
        "Mutable Values: lists"
      ],
      "metadata": {
        "id": "o3vTtALzwvCw"
      }
    },
    {
      "cell_type": "code",
      "source": [
        "list1 = [1,3,5,7]\n",
        "list2 = list1\n",
        "list1[2] = 4"
      ],
      "metadata": {
        "id": "qW6AyjUIvp6H"
      },
      "execution_count": 13,
      "outputs": []
    },
    {
      "cell_type": "code",
      "source": [
        "list1"
      ],
      "metadata": {
        "colab": {
          "base_uri": "https://localhost:8080/"
        },
        "id": "gOUp02TLxDxD",
        "outputId": "b9203455-4e23-443e-8de6-b097fbcabdb4"
      },
      "execution_count": 15,
      "outputs": [
        {
          "output_type": "execute_result",
          "data": {
            "text/plain": [
              "[1, 3, 4, 7]"
            ]
          },
          "metadata": {},
          "execution_count": 15
        }
      ]
    },
    {
      "cell_type": "code",
      "source": [
        "list2"
      ],
      "metadata": {
        "colab": {
          "base_uri": "https://localhost:8080/"
        },
        "id": "7uECTThKw5ax",
        "outputId": "d82c98e5-372b-4379-ea71-5c7f6b526605"
      },
      "execution_count": 16,
      "outputs": [
        {
          "output_type": "execute_result",
          "data": {
            "text/plain": [
              "[1, 3, 4, 7]"
            ]
          },
          "metadata": {},
          "execution_count": 16
        }
      ]
    },
    {
      "cell_type": "markdown",
      "source": [
        "**Copying Lists - Slide 8**"
      ],
      "metadata": {
        "id": "Xy8sFw7bxa35"
      }
    },
    {
      "cell_type": "code",
      "source": [
        "list1 = [1,3,5,7]\n",
        "list2 = list1[:]"
      ],
      "metadata": {
        "id": "8t1G9VuTw6io"
      },
      "execution_count": 17,
      "outputs": []
    },
    {
      "cell_type": "code",
      "source": [
        "list1"
      ],
      "metadata": {
        "colab": {
          "base_uri": "https://localhost:8080/"
        },
        "id": "Vifhd00Dyr1P",
        "outputId": "6d482f97-8ae3-4e3a-9898-7ed375c6ee93"
      },
      "execution_count": 18,
      "outputs": [
        {
          "output_type": "execute_result",
          "data": {
            "text/plain": [
              "[1, 3, 5, 7]"
            ]
          },
          "metadata": {},
          "execution_count": 18
        }
      ]
    },
    {
      "cell_type": "code",
      "source": [
        "list2"
      ],
      "metadata": {
        "colab": {
          "base_uri": "https://localhost:8080/"
        },
        "id": "Iq6GPVkHysrP",
        "outputId": "cd16621a-404a-4ef4-d7bc-ef1142671c0b"
      },
      "execution_count": 19,
      "outputs": [
        {
          "output_type": "execute_result",
          "data": {
            "text/plain": [
              "[1, 3, 5, 7]"
            ]
          },
          "metadata": {},
          "execution_count": 19
        }
      ]
    },
    {
      "cell_type": "code",
      "source": [
        "list1[2] = 4"
      ],
      "metadata": {
        "id": "PR4EgqG8ytSm"
      },
      "execution_count": 21,
      "outputs": []
    },
    {
      "cell_type": "code",
      "source": [
        "list1"
      ],
      "metadata": {
        "colab": {
          "base_uri": "https://localhost:8080/"
        },
        "id": "jglccEeEywL9",
        "outputId": "70339bf1-2f90-4f45-e6e7-c5d3de64fe42"
      },
      "execution_count": 22,
      "outputs": [
        {
          "output_type": "execute_result",
          "data": {
            "text/plain": [
              "[1, 3, 4, 7]"
            ]
          },
          "metadata": {},
          "execution_count": 22
        }
      ]
    },
    {
      "cell_type": "code",
      "source": [
        "list2"
      ],
      "metadata": {
        "colab": {
          "base_uri": "https://localhost:8080/"
        },
        "id": "lGMChFlByzv_",
        "outputId": "ab747616-e168-41b4-a096-7a2f25177df1"
      },
      "execution_count": 23,
      "outputs": [
        {
          "output_type": "execute_result",
          "data": {
            "text/plain": [
              "[1, 3, 5, 7]"
            ]
          },
          "metadata": {},
          "execution_count": 23
        }
      ]
    },
    {
      "cell_type": "markdown",
      "source": [
        "**Equality - Slide 9**"
      ],
      "metadata": {
        "id": "GhbuVryj0yb2"
      }
    },
    {
      "cell_type": "code",
      "source": [
        "list1 = [1,3,5,7]\n",
        "list2 = [1,3,5,7]"
      ],
      "metadata": {
        "id": "bLc4UItOy0SO"
      },
      "execution_count": 24,
      "outputs": []
    },
    {
      "cell_type": "code",
      "source": [
        "list3 = list2"
      ],
      "metadata": {
        "id": "TZmozbKK085v"
      },
      "execution_count": 25,
      "outputs": []
    },
    {
      "cell_type": "code",
      "source": [
        "list1 == list2"
      ],
      "metadata": {
        "colab": {
          "base_uri": "https://localhost:8080/"
        },
        "id": "dDYW2RUv0_Ot",
        "outputId": "731bc3d6-55b2-4162-81d4-4b2aff3e030a"
      },
      "execution_count": 26,
      "outputs": [
        {
          "output_type": "execute_result",
          "data": {
            "text/plain": [
              "True"
            ]
          },
          "metadata": {},
          "execution_count": 26
        }
      ]
    },
    {
      "cell_type": "code",
      "source": [
        "list2 is list3"
      ],
      "metadata": {
        "colab": {
          "base_uri": "https://localhost:8080/"
        },
        "id": "DyzUyY9a1At-",
        "outputId": "29edaefb-1a96-41a4-814e-5c6375d2ecbc"
      },
      "execution_count": 27,
      "outputs": [
        {
          "output_type": "execute_result",
          "data": {
            "text/plain": [
              "True"
            ]
          },
          "metadata": {},
          "execution_count": 27
        }
      ]
    },
    {
      "cell_type": "code",
      "source": [
        "list1 is list2"
      ],
      "metadata": {
        "colab": {
          "base_uri": "https://localhost:8080/"
        },
        "id": "l8tZbeL-1Cmu",
        "outputId": "8b73a459-6fe6-4642-c5db-34f0ae16cbcb"
      },
      "execution_count": 28,
      "outputs": [
        {
          "output_type": "execute_result",
          "data": {
            "text/plain": [
              "False"
            ]
          },
          "metadata": {},
          "execution_count": 28
        }
      ]
    },
    {
      "cell_type": "markdown",
      "source": [
        "**Concatenation - Slide 10**"
      ],
      "metadata": {
        "id": "sIkAnYrk1dya"
      }
    },
    {
      "cell_type": "code",
      "source": [
        "list1 = [1,3,5,7]\n",
        "list2 = [4,5,6,8]"
      ],
      "metadata": {
        "id": "TBOIP6D01D7P"
      },
      "execution_count": 29,
      "outputs": []
    },
    {
      "cell_type": "code",
      "source": [
        "list3 = list1 + list2"
      ],
      "metadata": {
        "id": "dAbnTEJT1ppw"
      },
      "execution_count": 30,
      "outputs": []
    },
    {
      "cell_type": "code",
      "source": [
        "list3"
      ],
      "metadata": {
        "colab": {
          "base_uri": "https://localhost:8080/"
        },
        "id": "IqixLRNY1ss1",
        "outputId": "be32e1a7-ae9b-4849-8a2e-0d3ee986dbba"
      },
      "execution_count": 31,
      "outputs": [
        {
          "output_type": "execute_result",
          "data": {
            "text/plain": [
              "[1, 3, 5, 7, 4, 5, 6, 8]"
            ]
          },
          "metadata": {},
          "execution_count": 31
        }
      ]
    },
    {
      "cell_type": "code",
      "source": [
        "list2 = list1"
      ],
      "metadata": {
        "id": "nO2ExDAu1taQ"
      },
      "execution_count": 32,
      "outputs": []
    },
    {
      "cell_type": "code",
      "source": [
        "list1 = list1 + [9]"
      ],
      "metadata": {
        "id": "YOkzc0_718hf"
      },
      "execution_count": 33,
      "outputs": []
    },
    {
      "cell_type": "code",
      "source": [
        "list1"
      ],
      "metadata": {
        "colab": {
          "base_uri": "https://localhost:8080/"
        },
        "id": "WSNrMsYB1-TF",
        "outputId": "b18f4b45-78b0-445e-9209-53dfaa375ca9"
      },
      "execution_count": 34,
      "outputs": [
        {
          "output_type": "execute_result",
          "data": {
            "text/plain": [
              "[1, 3, 5, 7, 9]"
            ]
          },
          "metadata": {},
          "execution_count": 34
        }
      ]
    },
    {
      "cell_type": "code",
      "source": [
        "list1 is list2"
      ],
      "metadata": {
        "colab": {
          "base_uri": "https://localhost:8080/"
        },
        "id": "Q2Hi-P0Q1-1Q",
        "outputId": "08222d26-1aa5-45f1-8f95-0b491451bcc2"
      },
      "execution_count": 35,
      "outputs": [
        {
          "output_type": "execute_result",
          "data": {
            "text/plain": [
              "False"
            ]
          },
          "metadata": {},
          "execution_count": 35
        }
      ]
    }
  ]
}