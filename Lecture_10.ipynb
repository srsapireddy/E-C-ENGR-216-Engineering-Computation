{
  "nbformat": 4,
  "nbformat_minor": 0,
  "metadata": {
    "colab": {
      "provenance": []
    },
    "kernelspec": {
      "name": "python3",
      "display_name": "Python 3"
    },
    "language_info": {
      "name": "python"
    }
  },
  "cells": [
    {
      "cell_type": "code",
      "execution_count": 1,
      "metadata": {
        "colab": {
          "base_uri": "https://localhost:8080/"
        },
        "id": "gBSLUfiZgYxB",
        "outputId": "80f99f02-560e-4def-cf4c-2e4edec58a46"
      },
      "outputs": [
        {
          "output_type": "stream",
          "name": "stdout",
          "text": [
            "Debug: Searching for 7 in [1, 3, 5, 7, 9, 11, 13]\n",
            "Debug: Middle index 3, Middle value 7\n",
            "Debug: Found value 7 at index 3.\n",
            "Result: True\n"
          ]
        }
      ],
      "source": [
        "def bsearch(seq, v, l, r):\n",
        "    \"\"\"\n",
        "    Binary search to find if a value exists in a sorted sequence.\n",
        "\n",
        "    Parameters:\n",
        "    seq (list): The sorted list to search within.\n",
        "    v (int/float): The value to search for.\n",
        "    l (int): The left boundary of the search range.\n",
        "    r (int): The right boundary of the search range.\n",
        "\n",
        "    Returns:\n",
        "    bool: True if the value is found, False otherwise.\n",
        "    \"\"\"\n",
        "    print(f\"Debug: Searching for {v} in {seq[l:r]}\")  # Debugging the current search range\n",
        "\n",
        "    # Base case: If the range is empty\n",
        "    if r - l == 0:\n",
        "        print(f\"Debug: Range {seq[l:r]} is empty. Value {v} not found.\")\n",
        "        return False\n",
        "\n",
        "    # Calculate the middle index\n",
        "    mid = (l + r) // 2\n",
        "    print(f\"Debug: Middle index {mid}, Middle value {seq[mid]}\")\n",
        "\n",
        "    # Check if the middle element is the target value\n",
        "    if v == seq[mid]:\n",
        "        print(f\"Debug: Found value {v} at index {mid}.\")\n",
        "        return True\n",
        "\n",
        "    # Recurse on the left or right half based on the comparison\n",
        "    if v < seq[mid]:\n",
        "        print(f\"Debug: Value {v} is less than {seq[mid]}. Searching left half.\")\n",
        "        return bsearch(seq, v, l, mid)\n",
        "    else:\n",
        "        print(f\"Debug: Value {v} is greater than {seq[mid]}. Searching right half.\")\n",
        "        return bsearch(seq, v, mid + 1, r)\n",
        "\n",
        "# Example to test the function\n",
        "seq = [1, 3, 5, 7, 9, 11, 13]\n",
        "value_to_search = 7\n",
        "print(\"Result:\", bsearch(seq, value_to_search, 0, len(seq)))\n"
      ]
    },
    {
      "cell_type": "code",
      "source": [
        "\"\"\"\n",
        "Debug: Searching for 4 in [1, 3, 5, 7, 9, 11, 13]\n",
        "Debug: Middle index 3, Middle value 7\n",
        "Debug: Value 4 is less than 7. Searching left half.\n",
        "Debug: Searching for 4 in [1, 3, 5]\n",
        "Debug: Middle index 1, Middle value 3\n",
        "Debug: Value 4 is greater than 3. Searching right half.\n",
        "Debug: Searching for 4 in [5]\n",
        "Debug: Middle index 2, Middle value 5\n",
        "Debug: Value 4 is less than 5. Searching left half.\n",
        "Debug: Searching for 4 in []\n",
        "Debug: Range [] is empty. Value 4 not found.\n",
        "Result: False\n",
        "\n",
        "\"\"\""
      ],
      "metadata": {
        "colab": {
          "base_uri": "https://localhost:8080/",
          "height": 70
        },
        "id": "wZa0oNLDkmg0",
        "outputId": "d96c965a-2ca9-493e-cc26-4ae214fc4a4b"
      },
      "execution_count": 2,
      "outputs": [
        {
          "output_type": "execute_result",
          "data": {
            "text/plain": [
              "'\\nDebug: Searching for 4 in [1, 3, 5, 7, 9, 11, 13]\\nDebug: Middle index 3, Middle value 7\\nDebug: Value 4 is less than 7. Searching left half.\\nDebug: Searching for 4 in [1, 3, 5]\\nDebug: Middle index 1, Middle value 3\\nDebug: Value 4 is greater than 3. Searching right half.\\nDebug: Searching for 4 in [5]\\nDebug: Middle index 2, Middle value 5\\nDebug: Value 4 is less than 5. Searching left half.\\nDebug: Searching for 4 in []\\nDebug: Range [] is empty. Value 4 not found.\\nResult: False\\n\\n'"
            ],
            "application/vnd.google.colaboratory.intrinsic+json": {
              "type": "string"
            }
          },
          "metadata": {},
          "execution_count": 2
        }
      ]
    },
    {
      "cell_type": "code",
      "source": [],
      "metadata": {
        "id": "I0urtVowlLYj"
      },
      "execution_count": null,
      "outputs": []
    }
  ]
}