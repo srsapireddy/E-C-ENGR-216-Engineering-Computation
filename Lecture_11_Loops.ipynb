{
  "nbformat": 4,
  "nbformat_minor": 0,
  "metadata": {
    "colab": {
      "provenance": []
    },
    "kernelspec": {
      "name": "python3",
      "display_name": "Python 3"
    },
    "language_info": {
      "name": "python"
    }
  },
  "cells": [
    {
      "cell_type": "markdown",
      "source": [
        "Basic While Loop"
      ],
      "metadata": {
        "id": "LEj2wmMc3wap"
      }
    },
    {
      "cell_type": "code",
      "execution_count": 3,
      "metadata": {
        "colab": {
          "base_uri": "https://localhost:8080/"
        },
        "id": "dWlxgvjB00Uh",
        "outputId": "28a4f2b1-e983-4fe2-9444-afadffd2a35b"
      },
      "outputs": [
        {
          "output_type": "stream",
          "name": "stdout",
          "text": [
            "1\n",
            "2\n",
            "3\n",
            "4\n",
            "5\n",
            "6\n",
            "7\n",
            "8\n",
            "9\n"
          ]
        }
      ],
      "source": [
        "# A while loop will execute a block of code when a condition is True\n",
        "value = 1\n",
        "while value < 10:\n",
        "  print(value)\n",
        "  value += 1"
      ]
    },
    {
      "cell_type": "markdown",
      "source": [
        "Break Statements"
      ],
      "metadata": {
        "id": "TEHj0aQe30jK"
      }
    },
    {
      "cell_type": "code",
      "source": [
        "value = 1\n",
        "while value < 10:\n",
        "  print(value)\n",
        "  if value == 5:\n",
        "    break\n",
        "  value += 1"
      ],
      "metadata": {
        "colab": {
          "base_uri": "https://localhost:8080/"
        },
        "id": "a7U4HWYz1iBy",
        "outputId": "43f32e1f-9103-456b-df64-01854d69961e"
      },
      "execution_count": 5,
      "outputs": [
        {
          "output_type": "stream",
          "name": "stdout",
          "text": [
            "1\n",
            "2\n",
            "3\n",
            "4\n",
            "5\n"
          ]
        }
      ]
    },
    {
      "cell_type": "markdown",
      "source": [
        "Continue Statements"
      ],
      "metadata": {
        "id": "mKWUFIlO35jh"
      }
    },
    {
      "cell_type": "code",
      "source": [
        "value = 1\n",
        "while value <= 10:\n",
        "  value += 1\n",
        "  if value == 5:\n",
        "    continue # Stops the execution of the current loop and go to the next loop\n",
        "  print(value)\n",
        ""
      ],
      "metadata": {
        "colab": {
          "base_uri": "https://localhost:8080/"
        },
        "id": "Hl-rE-BK1pEj",
        "outputId": "447c174b-e4f1-4c14-d7de-5627aa5c3610"
      },
      "execution_count": 1,
      "outputs": [
        {
          "output_type": "stream",
          "name": "stdout",
          "text": [
            "2\n",
            "3\n",
            "4\n",
            "6\n",
            "7\n",
            "8\n",
            "9\n",
            "10\n",
            "11\n"
          ]
        }
      ]
    },
    {
      "cell_type": "markdown",
      "source": [
        "Else Statements"
      ],
      "metadata": {
        "id": "u5lZMzXj38jQ"
      }
    },
    {
      "cell_type": "code",
      "source": [
        "value = 1\n",
        "while value <= 10:\n",
        "  value += 1\n",
        "  if value == 5:\n",
        "    continue # Stops the execution of the current loop and go to the next loop\n",
        "  print(value)\n",
        "else:\n",
        "  print(\"Value is now equal to \" + str(value))\n",
        ""
      ],
      "metadata": {
        "colab": {
          "base_uri": "https://localhost:8080/"
        },
        "id": "UGc8CcyO1_IS",
        "outputId": "75cfec0a-db1e-4861-eabf-f3048be238f5"
      },
      "execution_count": 11,
      "outputs": [
        {
          "output_type": "stream",
          "name": "stdout",
          "text": [
            "2\n",
            "3\n",
            "4\n",
            "6\n",
            "7\n",
            "8\n",
            "9\n",
            "10\n",
            "11\n",
            "Value is now equal to 11\n"
          ]
        }
      ]
    },
    {
      "cell_type": "markdown",
      "source": [
        "Basic For Loop"
      ],
      "metadata": {
        "id": "gDgfmqwh3_Kd"
      }
    },
    {
      "cell_type": "code",
      "source": [
        "# A for loop iterates over a sequence\n",
        "names = [\"Dave\", \"Sara\", \"John\"]\n",
        "for x in names:\n",
        "  print(x)"
      ],
      "metadata": {
        "colab": {
          "base_uri": "https://localhost:8080/"
        },
        "id": "YynS1PJ-2nJC",
        "outputId": "8f19137c-5dda-489a-d2b5-46d6b0f96e8e"
      },
      "execution_count": 2,
      "outputs": [
        {
          "output_type": "stream",
          "name": "stdout",
          "text": [
            "Dave\n",
            "Sara\n",
            "John\n"
          ]
        }
      ]
    },
    {
      "cell_type": "markdown",
      "source": [
        "Looping through a string"
      ],
      "metadata": {
        "id": "-6br6kg151aB"
      }
    },
    {
      "cell_type": "code",
      "source": [
        "for x in \"Mississippi\":\n",
        "  print(x)"
      ],
      "metadata": {
        "colab": {
          "base_uri": "https://localhost:8080/"
        },
        "id": "IRKk7Mcu5LbT",
        "outputId": "d568683b-5f3f-4ff3-ce69-54e2fa8af3bf"
      },
      "execution_count": 3,
      "outputs": [
        {
          "output_type": "stream",
          "name": "stdout",
          "text": [
            "M\n",
            "i\n",
            "s\n",
            "s\n",
            "i\n",
            "s\n",
            "s\n",
            "i\n",
            "p\n",
            "p\n",
            "i\n"
          ]
        }
      ]
    },
    {
      "cell_type": "markdown",
      "source": [
        "For loop with a break"
      ],
      "metadata": {
        "id": "Aze2jFEQ57ET"
      }
    },
    {
      "cell_type": "code",
      "source": [
        "for x in names:\n",
        "  if x == \"Sara\":\n",
        "    break\n",
        "  print(x)"
      ],
      "metadata": {
        "colab": {
          "base_uri": "https://localhost:8080/"
        },
        "id": "f1ibZ7KH5WFU",
        "outputId": "09e6af39-b9d7-44d5-f94e-a3974d23bf3b"
      },
      "execution_count": 4,
      "outputs": [
        {
          "output_type": "stream",
          "name": "stdout",
          "text": [
            "Dave\n"
          ]
        }
      ]
    },
    {
      "cell_type": "markdown",
      "source": [
        "For loop with continue"
      ],
      "metadata": {
        "id": "PNh5g0UM5_JF"
      }
    },
    {
      "cell_type": "code",
      "source": [
        "for x in names:\n",
        "  if x == \"Sara\":\n",
        "    continue\n",
        "  print(x)"
      ],
      "metadata": {
        "colab": {
          "base_uri": "https://localhost:8080/"
        },
        "id": "v2cj-pOl5gZm",
        "outputId": "656a0458-d395-4b82-f89d-acb3b1da865e"
      },
      "execution_count": 5,
      "outputs": [
        {
          "output_type": "stream",
          "name": "stdout",
          "text": [
            "Dave\n",
            "John\n"
          ]
        }
      ]
    },
    {
      "cell_type": "markdown",
      "source": [
        "Looping through range of numbers"
      ],
      "metadata": {
        "id": "IUFBQ-CE6FcR"
      }
    },
    {
      "cell_type": "code",
      "source": [
        "for x in range(4):\n",
        "  print(x)"
      ],
      "metadata": {
        "colab": {
          "base_uri": "https://localhost:8080/"
        },
        "id": "PYOp9A9f5pJE",
        "outputId": "04aad2a8-36f7-483d-baa3-97ea25ca2704"
      },
      "execution_count": 6,
      "outputs": [
        {
          "output_type": "stream",
          "name": "stdout",
          "text": [
            "0\n",
            "1\n",
            "2\n",
            "3\n"
          ]
        }
      ]
    },
    {
      "cell_type": "markdown",
      "source": [
        "Range start and end"
      ],
      "metadata": {
        "id": "eX1qSqmj6KgJ"
      }
    },
    {
      "cell_type": "code",
      "source": [
        "for x in range(2,4):\n",
        "  print(x)"
      ],
      "metadata": {
        "colab": {
          "base_uri": "https://localhost:8080/"
        },
        "id": "Ig07GnjI6LyY",
        "outputId": "25b1531a-e7b3-4607-a47f-f25c89de55ed"
      },
      "execution_count": 7,
      "outputs": [
        {
          "output_type": "stream",
          "name": "stdout",
          "text": [
            "2\n",
            "3\n"
          ]
        }
      ]
    },
    {
      "cell_type": "markdown",
      "source": [
        "Range Increment Values"
      ],
      "metadata": {
        "id": "qNFKhH146MGq"
      }
    },
    {
      "cell_type": "code",
      "source": [
        "for x in range(0,100,5):\n",
        "  print(x)"
      ],
      "metadata": {
        "colab": {
          "base_uri": "https://localhost:8080/"
        },
        "id": "ZAGU4HYl6Osp",
        "outputId": "3406a479-2597-48a1-d623-2f3209fdf20f"
      },
      "execution_count": 8,
      "outputs": [
        {
          "output_type": "stream",
          "name": "stdout",
          "text": [
            "0\n",
            "5\n",
            "10\n",
            "15\n",
            "20\n",
            "25\n",
            "30\n",
            "35\n",
            "40\n",
            "45\n",
            "50\n",
            "55\n",
            "60\n",
            "65\n",
            "70\n",
            "75\n",
            "80\n",
            "85\n",
            "90\n",
            "95\n"
          ]
        }
      ]
    },
    {
      "cell_type": "code",
      "source": [
        "for x in range(0,101,5):\n",
        "  print(x)"
      ],
      "metadata": {
        "colab": {
          "base_uri": "https://localhost:8080/"
        },
        "id": "AUW3X6BG88tP",
        "outputId": "f0e7afcb-c6ef-4f8e-c493-2d259a658a0d"
      },
      "execution_count": 9,
      "outputs": [
        {
          "output_type": "stream",
          "name": "stdout",
          "text": [
            "0\n",
            "5\n",
            "10\n",
            "15\n",
            "20\n",
            "25\n",
            "30\n",
            "35\n",
            "40\n",
            "45\n",
            "50\n",
            "55\n",
            "60\n",
            "65\n",
            "70\n",
            "75\n",
            "80\n",
            "85\n",
            "90\n",
            "95\n",
            "100\n"
          ]
        }
      ]
    },
    {
      "cell_type": "markdown",
      "source": [
        "For Loop with Else"
      ],
      "metadata": {
        "id": "sLJcrGzg6Qm5"
      }
    },
    {
      "cell_type": "code",
      "source": [
        "for x in range(0,100,5):\n",
        "  print(x)\n",
        "else:\n",
        "  print(\"Glad that\\'s over!\")"
      ],
      "metadata": {
        "colab": {
          "base_uri": "https://localhost:8080/"
        },
        "id": "Wg53Ktia6SR6",
        "outputId": "02bdb384-ce96-4a16-d87b-42e477f8dc1f"
      },
      "execution_count": 10,
      "outputs": [
        {
          "output_type": "stream",
          "name": "stdout",
          "text": [
            "0\n",
            "5\n",
            "10\n",
            "15\n",
            "20\n",
            "25\n",
            "30\n",
            "35\n",
            "40\n",
            "45\n",
            "50\n",
            "55\n",
            "60\n",
            "65\n",
            "70\n",
            "75\n",
            "80\n",
            "85\n",
            "90\n",
            "95\n",
            "Glad that's over!\n"
          ]
        }
      ]
    },
    {
      "cell_type": "markdown",
      "source": [
        "Nested Loops"
      ],
      "metadata": {
        "id": "J0qnW-1g9OYZ"
      }
    },
    {
      "cell_type": "code",
      "source": [
        "names = [\"Dave\", \"Sara\", \"John\"]\n",
        "actions = [\"codes\", \"eats\", \"sleeps\"]\n",
        "\n",
        "for name in names:\n",
        "  for action in actions:\n",
        "    print(name + \" \" + action + \".\")"
      ],
      "metadata": {
        "colab": {
          "base_uri": "https://localhost:8080/"
        },
        "id": "v037tMP09Epd",
        "outputId": "863b6428-7161-4db0-c41a-9f7cdbe33295"
      },
      "execution_count": 11,
      "outputs": [
        {
          "output_type": "stream",
          "name": "stdout",
          "text": [
            "Dave codes.\n",
            "Dave eats.\n",
            "Dave sleeps.\n",
            "Sara codes.\n",
            "Sara eats.\n",
            "Sara sleeps.\n",
            "John codes.\n",
            "John eats.\n",
            "John sleeps.\n"
          ]
        }
      ]
    },
    {
      "cell_type": "code",
      "source": [
        "names = [\"Dave\", \"Sara\", \"John\"]\n",
        "actions = [\"codes\", \"eats\", \"sleeps\"]\n",
        "\n",
        "for action in actions: # Whatever is on the outside is what happens and it loops through whatever is on the inside\n",
        "  for name in names:\n",
        "    print(name + \" \" + action + \".\")"
      ],
      "metadata": {
        "colab": {
          "base_uri": "https://localhost:8080/"
        },
        "id": "3iQzkHLj9sMF",
        "outputId": "1aaec1a5-f623-4db7-8741-0aa5953dafc8"
      },
      "execution_count": 13,
      "outputs": [
        {
          "output_type": "stream",
          "name": "stdout",
          "text": [
            "Dave codes.\n",
            "Sara codes.\n",
            "John codes.\n",
            "Dave eats.\n",
            "Sara eats.\n",
            "John eats.\n",
            "Dave sleeps.\n",
            "Sara sleeps.\n",
            "John sleeps.\n"
          ]
        }
      ]
    }
  ]
}