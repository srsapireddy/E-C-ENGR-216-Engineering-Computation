{
  "nbformat": 4,
  "nbformat_minor": 0,
  "metadata": {
    "colab": {
      "provenance": []
    },
    "kernelspec": {
      "name": "python3",
      "display_name": "Python 3"
    },
    "language_info": {
      "name": "python"
    }
  },
  "cells": [
    {
      "cell_type": "markdown",
      "source": [
        "Operations on lists"
      ],
      "metadata": {
        "id": "F_MrTT3c1IMz"
      }
    },
    {
      "cell_type": "code",
      "execution_count": 2,
      "metadata": {
        "colab": {
          "base_uri": "https://localhost:8080/"
        },
        "id": "uzvUXLYe0t5y",
        "outputId": "82ba67a1-d0c2-4491-ad6f-501f45e30e0a"
      },
      "outputs": [
        {
          "output_type": "stream",
          "name": "stdout",
          "text": [
            "[2, 4, 6, 8]\n"
          ]
        }
      ],
      "source": [
        "# Define a function to double the values\n",
        "def double(x):\n",
        "    return x * 2\n",
        "\n",
        "# Function to apply f to each element in the list\n",
        "def applylist(f, l):\n",
        "    for i in range(len(l)):\n",
        "        l[i] = f(l[i])\n",
        "\n",
        "# Example usage\n",
        "l = [1, 2, 3, 4]\n",
        "applylist(double, l)  # Apply the function to the list\n",
        "print(l)  # Output: [2, 4, 6, 8]\n"
      ]
    },
    {
      "cell_type": "code",
      "source": [
        "# Define a function to square the values\n",
        "def square(x):\n",
        "    return x ** 2\n",
        "\n",
        "# Function to return a new list with f applied to each element\n",
        "def applylist(f, l):\n",
        "    return [f(x) for x in l]\n",
        "\n",
        "# Here, f(x) is any function that takes x as input and returns a transformed value.\n",
        "# This is done for each element in l using list comprehension.\n",
        "\n",
        "# Example usage\n",
        "l = [1, 2, 3, 4]\n",
        "new_l = applylist(square, l)  # Apply the function to get a new list\n",
        "print(new_l)\n"
      ],
      "metadata": {
        "colab": {
          "base_uri": "https://localhost:8080/"
        },
        "id": "YCBd6y4q1OOM",
        "outputId": "7a3d0888-908d-4d1b-c730-9a26b0dcf962"
      },
      "execution_count": 3,
      "outputs": [
        {
          "output_type": "stream",
          "name": "stdout",
          "text": [
            "[1, 4, 9, 16]\n"
          ]
        }
      ]
    },
    {
      "cell_type": "markdown",
      "source": [
        "map() function"
      ],
      "metadata": {
        "id": "TvowV4lo2DVE"
      }
    },
    {
      "cell_type": "code",
      "source": [
        "# Define a function to double the values\n",
        "def double(x):\n",
        "    return x * 2\n",
        "\n",
        "# Example list\n",
        "l = [1, 2, 3, 4]\n",
        "\n",
        "# Apply the function using map and convert to a list\n",
        "new_l = list(map(double, l))\n",
        "\n",
        "print(new_l)  # Output: [2, 4, 6, 8]\n"
      ],
      "metadata": {
        "colab": {
          "base_uri": "https://localhost:8080/"
        },
        "id": "VxhOdfeG1YRT",
        "outputId": "13965b9b-545c-4bce-8980-71fa799289c4"
      },
      "execution_count": 4,
      "outputs": [
        {
          "output_type": "stream",
          "name": "stdout",
          "text": [
            "[2, 4, 6, 8]\n"
          ]
        }
      ]
    },
    {
      "cell_type": "code",
      "source": [
        "# Define a function to square the values\n",
        "def square(x):\n",
        "    return x ** 2\n",
        "\n",
        "# Example list\n",
        "l = [1, 2, 3, 4]\n",
        "\n",
        "# Using map() in a for loop\n",
        "for i in map(square, l):\n",
        "    print(i)  # Output: 1, 4, 9, 16 (printed line by line)\n"
      ],
      "metadata": {
        "colab": {
          "base_uri": "https://localhost:8080/"
        },
        "id": "JEGRjE9p2jIb",
        "outputId": "5f1fbdb3-0f64-4679-be4c-b5db5fd0a28c"
      },
      "execution_count": 5,
      "outputs": [
        {
          "output_type": "stream",
          "name": "stdout",
          "text": [
            "1\n",
            "4\n",
            "9\n",
            "16\n"
          ]
        }
      ]
    },
    {
      "cell_type": "markdown",
      "source": [
        "Selecting a sublist"
      ],
      "metadata": {
        "id": "9OJJEG3C3gGr"
      }
    },
    {
      "cell_type": "code",
      "source": [
        "# Function to check if a number is prime\n",
        "def isprime(n):\n",
        "    if n < 2:\n",
        "        return False\n",
        "    for i in range(2, n):\n",
        "        if n % i == 0:\n",
        "            return False\n",
        "    return True\n",
        "\n",
        "# List of numbers\n",
        "numberlist = [10, 15, 3, 5, 7, 12, 19, 23, 30]\n",
        "\n",
        "# Extract prime numbers (simplified)\n",
        "primelist = []\n",
        "for i in numberlist:\n",
        "    if isprime(i):\n",
        "        primelist.append(i)\n",
        "\n",
        "# Print result\n",
        "print(\"Prime numbers:\", primelist)\n"
      ],
      "metadata": {
        "colab": {
          "base_uri": "https://localhost:8080/"
        },
        "id": "s1hJZQsGYjaB",
        "outputId": "eef1f8c7-6ab2-4ace-d5aa-8240e0313944"
      },
      "execution_count": 18,
      "outputs": [
        {
          "output_type": "stream",
          "name": "stdout",
          "text": [
            "Prime numbers: [3, 5, 7, 19, 23]\n"
          ]
        }
      ]
    },
    {
      "cell_type": "code",
      "source": [
        "# Function to check if a number is prime\n",
        "def isprime(n):\n",
        "    if n < 2:\n",
        "        return False\n",
        "    for i in range(2, n):\n",
        "        if n % i == 0:\n",
        "            return False\n",
        "    return True\n",
        "\n",
        "# List of numbers\n",
        "numberlist = [10, 15, 3, 5, 7, 12, 19, 23, 30]\n",
        "\n",
        "# Extract prime numbers\n",
        "primelist = [i for i in numberlist if isprime(i)] # This line creates a list primelist by iterating over numberlist and including only the elements for which isprime(i) returns True\n",
        "\n",
        "# Print result\n",
        "print(\"Prime numbers:\", primelist)\n"
      ],
      "metadata": {
        "colab": {
          "base_uri": "https://localhost:8080/"
        },
        "id": "36HifdI03fof",
        "outputId": "5ceba36e-f542-4347-ab42-75886ee2aac9"
      },
      "execution_count": 19,
      "outputs": [
        {
          "output_type": "stream",
          "name": "stdout",
          "text": [
            "Prime numbers: [3, 5, 7, 19, 23]\n"
          ]
        }
      ]
    },
    {
      "cell_type": "code",
      "source": [
        "# Function that checks if a number is even\n",
        "def is_even(n):\n",
        "    return n % 2 == 0  # Returns True if n is even, False otherwise\n",
        "\n",
        "# General function to select elements based on a property\n",
        "def select(property, l):\n",
        "    sublist = []\n",
        "    for x in l:\n",
        "        if property(x):  # Check if the element satisfies the condition\n",
        "            sublist.append(x)\n",
        "    return sublist\n",
        "\n",
        "# Example list\n",
        "numbers = [10, 15, 3, 5, 8, 12, 19, 24, 30]\n",
        "\n",
        "# Select only even numbers\n",
        "even_numbers = select(is_even, numbers)\n",
        "\n",
        "# Print result\n",
        "print(\"Even numbers:\", even_numbers)\n"
      ],
      "metadata": {
        "colab": {
          "base_uri": "https://localhost:8080/"
        },
        "id": "FQ0237hn2oSS",
        "outputId": "7e3372e0-13be-407e-cfba-c890921b2bd4"
      },
      "execution_count": 7,
      "outputs": [
        {
          "output_type": "stream",
          "name": "stdout",
          "text": [
            "Even numbers: [10, 8, 12, 24, 30]\n"
          ]
        }
      ]
    },
    {
      "cell_type": "markdown",
      "source": [
        "filter() function"
      ],
      "metadata": {
        "id": "4qHBrmPu312I"
      }
    },
    {
      "cell_type": "code",
      "source": [
        "# Function to check if a number is even\n",
        "def is_even(n):\n",
        "    return n % 2 == 0\n",
        "\n",
        "# List of numbers\n",
        "numbers = [10, 15, 3, 5, 8, 12, 19, 24, 30]\n",
        "\n",
        "# Using filter() to get only even numbers\n",
        "even_numbers = list(filter(is_even, numbers))\n",
        "\n",
        "# Print result\n",
        "print(\"Even numbers:\", even_numbers)\n"
      ],
      "metadata": {
        "colab": {
          "base_uri": "https://localhost:8080/"
        },
        "id": "ux2ve58D3zSx",
        "outputId": "c46651bd-0152-4686-86c7-af45046d0c25"
      },
      "execution_count": 8,
      "outputs": [
        {
          "output_type": "stream",
          "name": "stdout",
          "text": [
            "Even numbers: [10, 8, 12, 24, 30]\n"
          ]
        }
      ]
    },
    {
      "cell_type": "markdown",
      "source": [
        "Combining maps and filters"
      ],
      "metadata": {
        "id": "Cevu-pxG4I2a"
      }
    },
    {
      "cell_type": "code",
      "source": [
        "# Function to return the square of a number\n",
        "def square(x):\n",
        "    return x * x\n",
        "\n",
        "# Function to check if a number is even\n",
        "def iseven(x):\n",
        "    return x % 2 == 0\n",
        "\n",
        "# Using filter() to select even numbers, then map() to square them\n",
        "result = list(map(square, filter(iseven, range(10))))\n",
        "\n",
        "# Print the result\n",
        "print(\"Squares of even numbers from 0 to 99:\", result)\n"
      ],
      "metadata": {
        "colab": {
          "base_uri": "https://localhost:8080/"
        },
        "id": "Fd5mxCWV4EKi",
        "outputId": "2a5619d9-9bb6-4329-af5d-2cbac31c4b09"
      },
      "execution_count": 10,
      "outputs": [
        {
          "output_type": "stream",
          "name": "stdout",
          "text": [
            "Squares of even numbers from 0 to 99: [0, 4, 16, 36, 64]\n"
          ]
        }
      ]
    },
    {
      "cell_type": "markdown",
      "source": [
        "List Comprehension: Pythagorean Example"
      ],
      "metadata": {
        "id": "ULCMWSc64vik"
      }
    },
    {
      "cell_type": "code",
      "source": [
        "pythagorean_triples = [(x, y, z) for x in range(100)\n",
        "                        for y in range(100)\n",
        "                        for z in range(100)\n",
        "                        if x * x + y * y == z * z]\n",
        "\n",
        "print(\"Pythagorean triples below 100:\", pythagorean_triples)\n"
      ],
      "metadata": {
        "colab": {
          "base_uri": "https://localhost:8080/"
        },
        "id": "3CsGCsyv4Sdh",
        "outputId": "1a4ca54c-0b76-47fd-bb4e-605a98db3dab"
      },
      "execution_count": 13,
      "outputs": [
        {
          "output_type": "stream",
          "name": "stdout",
          "text": [
            "Pythagorean triples below 100: [(0, 0, 0), (0, 1, 1), (0, 2, 2), (0, 3, 3), (0, 4, 4), (0, 5, 5), (0, 6, 6), (0, 7, 7), (0, 8, 8), (0, 9, 9), (0, 10, 10), (0, 11, 11), (0, 12, 12), (0, 13, 13), (0, 14, 14), (0, 15, 15), (0, 16, 16), (0, 17, 17), (0, 18, 18), (0, 19, 19), (0, 20, 20), (0, 21, 21), (0, 22, 22), (0, 23, 23), (0, 24, 24), (0, 25, 25), (0, 26, 26), (0, 27, 27), (0, 28, 28), (0, 29, 29), (0, 30, 30), (0, 31, 31), (0, 32, 32), (0, 33, 33), (0, 34, 34), (0, 35, 35), (0, 36, 36), (0, 37, 37), (0, 38, 38), (0, 39, 39), (0, 40, 40), (0, 41, 41), (0, 42, 42), (0, 43, 43), (0, 44, 44), (0, 45, 45), (0, 46, 46), (0, 47, 47), (0, 48, 48), (0, 49, 49), (0, 50, 50), (0, 51, 51), (0, 52, 52), (0, 53, 53), (0, 54, 54), (0, 55, 55), (0, 56, 56), (0, 57, 57), (0, 58, 58), (0, 59, 59), (0, 60, 60), (0, 61, 61), (0, 62, 62), (0, 63, 63), (0, 64, 64), (0, 65, 65), (0, 66, 66), (0, 67, 67), (0, 68, 68), (0, 69, 69), (0, 70, 70), (0, 71, 71), (0, 72, 72), (0, 73, 73), (0, 74, 74), (0, 75, 75), (0, 76, 76), (0, 77, 77), (0, 78, 78), (0, 79, 79), (0, 80, 80), (0, 81, 81), (0, 82, 82), (0, 83, 83), (0, 84, 84), (0, 85, 85), (0, 86, 86), (0, 87, 87), (0, 88, 88), (0, 89, 89), (0, 90, 90), (0, 91, 91), (0, 92, 92), (0, 93, 93), (0, 94, 94), (0, 95, 95), (0, 96, 96), (0, 97, 97), (0, 98, 98), (0, 99, 99), (1, 0, 1), (2, 0, 2), (3, 0, 3), (3, 4, 5), (4, 0, 4), (4, 3, 5), (5, 0, 5), (5, 12, 13), (6, 0, 6), (6, 8, 10), (7, 0, 7), (7, 24, 25), (8, 0, 8), (8, 6, 10), (8, 15, 17), (9, 0, 9), (9, 12, 15), (9, 40, 41), (10, 0, 10), (10, 24, 26), (11, 0, 11), (11, 60, 61), (12, 0, 12), (12, 5, 13), (12, 9, 15), (12, 16, 20), (12, 35, 37), (13, 0, 13), (13, 84, 85), (14, 0, 14), (14, 48, 50), (15, 0, 15), (15, 8, 17), (15, 20, 25), (15, 36, 39), (16, 0, 16), (16, 12, 20), (16, 30, 34), (16, 63, 65), (17, 0, 17), (18, 0, 18), (18, 24, 30), (18, 80, 82), (19, 0, 19), (20, 0, 20), (20, 15, 25), (20, 21, 29), (20, 48, 52), (21, 0, 21), (21, 20, 29), (21, 28, 35), (21, 72, 75), (22, 0, 22), (23, 0, 23), (24, 0, 24), (24, 7, 25), (24, 10, 26), (24, 18, 30), (24, 32, 40), (24, 45, 51), (24, 70, 74), (25, 0, 25), (25, 60, 65), (26, 0, 26), (27, 0, 27), (27, 36, 45), (28, 0, 28), (28, 21, 35), (28, 45, 53), (29, 0, 29), (30, 0, 30), (30, 16, 34), (30, 40, 50), (30, 72, 78), (31, 0, 31), (32, 0, 32), (32, 24, 40), (32, 60, 68), (33, 0, 33), (33, 44, 55), (33, 56, 65), (34, 0, 34), (35, 0, 35), (35, 12, 37), (35, 84, 91), (36, 0, 36), (36, 15, 39), (36, 27, 45), (36, 48, 60), (36, 77, 85), (37, 0, 37), (38, 0, 38), (39, 0, 39), (39, 52, 65), (39, 80, 89), (40, 0, 40), (40, 9, 41), (40, 30, 50), (40, 42, 58), (40, 75, 85), (41, 0, 41), (42, 0, 42), (42, 40, 58), (42, 56, 70), (43, 0, 43), (44, 0, 44), (44, 33, 55), (45, 0, 45), (45, 24, 51), (45, 28, 53), (45, 60, 75), (46, 0, 46), (47, 0, 47), (48, 0, 48), (48, 14, 50), (48, 20, 52), (48, 36, 60), (48, 55, 73), (48, 64, 80), (49, 0, 49), (50, 0, 50), (51, 0, 51), (51, 68, 85), (52, 0, 52), (52, 39, 65), (53, 0, 53), (54, 0, 54), (54, 72, 90), (55, 0, 55), (55, 48, 73), (56, 0, 56), (56, 33, 65), (56, 42, 70), (57, 0, 57), (57, 76, 95), (58, 0, 58), (59, 0, 59), (60, 0, 60), (60, 11, 61), (60, 25, 65), (60, 32, 68), (60, 45, 75), (60, 63, 87), (61, 0, 61), (62, 0, 62), (63, 0, 63), (63, 16, 65), (63, 60, 87), (64, 0, 64), (64, 48, 80), (65, 0, 65), (65, 72, 97), (66, 0, 66), (67, 0, 67), (68, 0, 68), (68, 51, 85), (69, 0, 69), (70, 0, 70), (70, 24, 74), (71, 0, 71), (72, 0, 72), (72, 21, 75), (72, 30, 78), (72, 54, 90), (72, 65, 97), (73, 0, 73), (74, 0, 74), (75, 0, 75), (75, 40, 85), (76, 0, 76), (76, 57, 95), (77, 0, 77), (77, 36, 85), (78, 0, 78), (79, 0, 79), (80, 0, 80), (80, 18, 82), (80, 39, 89), (81, 0, 81), (82, 0, 82), (83, 0, 83), (84, 0, 84), (84, 13, 85), (84, 35, 91), (85, 0, 85), (86, 0, 86), (87, 0, 87), (88, 0, 88), (89, 0, 89), (90, 0, 90), (91, 0, 91), (92, 0, 92), (93, 0, 93), (94, 0, 94), (95, 0, 95), (96, 0, 96), (97, 0, 97), (98, 0, 98), (99, 0, 99)]\n"
          ]
        }
      ]
    },
    {
      "cell_type": "code",
      "source": [
        "pythagorean_triples = []\n",
        "\n",
        "for x in range(100):\n",
        "    for y in range(100):\n",
        "        for z in range(100):\n",
        "            if x * x + y * y == z * z:\n",
        "                pythagorean_triples.append((x, y, z))\n",
        "\n",
        "print(\"Pythagorean triples below 100:\", pythagorean_triples)\n"
      ],
      "metadata": {
        "colab": {
          "base_uri": "https://localhost:8080/"
        },
        "id": "kzIyHbKI41g0",
        "outputId": "bb0bee9c-e3af-4040-957e-c7ee5f1e4d26"
      },
      "execution_count": 14,
      "outputs": [
        {
          "output_type": "stream",
          "name": "stdout",
          "text": [
            "Pythagorean triples below 100: [(0, 0, 0), (0, 1, 1), (0, 2, 2), (0, 3, 3), (0, 4, 4), (0, 5, 5), (0, 6, 6), (0, 7, 7), (0, 8, 8), (0, 9, 9), (0, 10, 10), (0, 11, 11), (0, 12, 12), (0, 13, 13), (0, 14, 14), (0, 15, 15), (0, 16, 16), (0, 17, 17), (0, 18, 18), (0, 19, 19), (0, 20, 20), (0, 21, 21), (0, 22, 22), (0, 23, 23), (0, 24, 24), (0, 25, 25), (0, 26, 26), (0, 27, 27), (0, 28, 28), (0, 29, 29), (0, 30, 30), (0, 31, 31), (0, 32, 32), (0, 33, 33), (0, 34, 34), (0, 35, 35), (0, 36, 36), (0, 37, 37), (0, 38, 38), (0, 39, 39), (0, 40, 40), (0, 41, 41), (0, 42, 42), (0, 43, 43), (0, 44, 44), (0, 45, 45), (0, 46, 46), (0, 47, 47), (0, 48, 48), (0, 49, 49), (0, 50, 50), (0, 51, 51), (0, 52, 52), (0, 53, 53), (0, 54, 54), (0, 55, 55), (0, 56, 56), (0, 57, 57), (0, 58, 58), (0, 59, 59), (0, 60, 60), (0, 61, 61), (0, 62, 62), (0, 63, 63), (0, 64, 64), (0, 65, 65), (0, 66, 66), (0, 67, 67), (0, 68, 68), (0, 69, 69), (0, 70, 70), (0, 71, 71), (0, 72, 72), (0, 73, 73), (0, 74, 74), (0, 75, 75), (0, 76, 76), (0, 77, 77), (0, 78, 78), (0, 79, 79), (0, 80, 80), (0, 81, 81), (0, 82, 82), (0, 83, 83), (0, 84, 84), (0, 85, 85), (0, 86, 86), (0, 87, 87), (0, 88, 88), (0, 89, 89), (0, 90, 90), (0, 91, 91), (0, 92, 92), (0, 93, 93), (0, 94, 94), (0, 95, 95), (0, 96, 96), (0, 97, 97), (0, 98, 98), (0, 99, 99), (1, 0, 1), (2, 0, 2), (3, 0, 3), (3, 4, 5), (4, 0, 4), (4, 3, 5), (5, 0, 5), (5, 12, 13), (6, 0, 6), (6, 8, 10), (7, 0, 7), (7, 24, 25), (8, 0, 8), (8, 6, 10), (8, 15, 17), (9, 0, 9), (9, 12, 15), (9, 40, 41), (10, 0, 10), (10, 24, 26), (11, 0, 11), (11, 60, 61), (12, 0, 12), (12, 5, 13), (12, 9, 15), (12, 16, 20), (12, 35, 37), (13, 0, 13), (13, 84, 85), (14, 0, 14), (14, 48, 50), (15, 0, 15), (15, 8, 17), (15, 20, 25), (15, 36, 39), (16, 0, 16), (16, 12, 20), (16, 30, 34), (16, 63, 65), (17, 0, 17), (18, 0, 18), (18, 24, 30), (18, 80, 82), (19, 0, 19), (20, 0, 20), (20, 15, 25), (20, 21, 29), (20, 48, 52), (21, 0, 21), (21, 20, 29), (21, 28, 35), (21, 72, 75), (22, 0, 22), (23, 0, 23), (24, 0, 24), (24, 7, 25), (24, 10, 26), (24, 18, 30), (24, 32, 40), (24, 45, 51), (24, 70, 74), (25, 0, 25), (25, 60, 65), (26, 0, 26), (27, 0, 27), (27, 36, 45), (28, 0, 28), (28, 21, 35), (28, 45, 53), (29, 0, 29), (30, 0, 30), (30, 16, 34), (30, 40, 50), (30, 72, 78), (31, 0, 31), (32, 0, 32), (32, 24, 40), (32, 60, 68), (33, 0, 33), (33, 44, 55), (33, 56, 65), (34, 0, 34), (35, 0, 35), (35, 12, 37), (35, 84, 91), (36, 0, 36), (36, 15, 39), (36, 27, 45), (36, 48, 60), (36, 77, 85), (37, 0, 37), (38, 0, 38), (39, 0, 39), (39, 52, 65), (39, 80, 89), (40, 0, 40), (40, 9, 41), (40, 30, 50), (40, 42, 58), (40, 75, 85), (41, 0, 41), (42, 0, 42), (42, 40, 58), (42, 56, 70), (43, 0, 43), (44, 0, 44), (44, 33, 55), (45, 0, 45), (45, 24, 51), (45, 28, 53), (45, 60, 75), (46, 0, 46), (47, 0, 47), (48, 0, 48), (48, 14, 50), (48, 20, 52), (48, 36, 60), (48, 55, 73), (48, 64, 80), (49, 0, 49), (50, 0, 50), (51, 0, 51), (51, 68, 85), (52, 0, 52), (52, 39, 65), (53, 0, 53), (54, 0, 54), (54, 72, 90), (55, 0, 55), (55, 48, 73), (56, 0, 56), (56, 33, 65), (56, 42, 70), (57, 0, 57), (57, 76, 95), (58, 0, 58), (59, 0, 59), (60, 0, 60), (60, 11, 61), (60, 25, 65), (60, 32, 68), (60, 45, 75), (60, 63, 87), (61, 0, 61), (62, 0, 62), (63, 0, 63), (63, 16, 65), (63, 60, 87), (64, 0, 64), (64, 48, 80), (65, 0, 65), (65, 72, 97), (66, 0, 66), (67, 0, 67), (68, 0, 68), (68, 51, 85), (69, 0, 69), (70, 0, 70), (70, 24, 74), (71, 0, 71), (72, 0, 72), (72, 21, 75), (72, 30, 78), (72, 54, 90), (72, 65, 97), (73, 0, 73), (74, 0, 74), (75, 0, 75), (75, 40, 85), (76, 0, 76), (76, 57, 95), (77, 0, 77), (77, 36, 85), (78, 0, 78), (79, 0, 79), (80, 0, 80), (80, 18, 82), (80, 39, 89), (81, 0, 81), (82, 0, 82), (83, 0, 83), (84, 0, 84), (84, 13, 85), (84, 35, 91), (85, 0, 85), (86, 0, 86), (87, 0, 87), (88, 0, 88), (89, 0, 89), (90, 0, 90), (91, 0, 91), (92, 0, 92), (93, 0, 93), (94, 0, 94), (95, 0, 95), (96, 0, 96), (97, 0, 97), (98, 0, 98), (99, 0, 99)]\n"
          ]
        }
      ]
    },
    {
      "cell_type": "markdown",
      "source": [
        "Initializing lists"
      ],
      "metadata": {
        "id": "HFhgc0Uf6Ddz"
      }
    },
    {
      "cell_type": "code",
      "source": [
        "# Initializing a 4x3 matrix using loops\n",
        "matrix = []\n",
        "\n",
        "for j in range(4):  # 4 rows\n",
        "    row = []\n",
        "    for i in range(3):  # 3 columns\n",
        "        row.append(0)\n",
        "    matrix.append(row)\n",
        "\n",
        "# Print the matrix\n",
        "for row in matrix:\n",
        "    print(row)\n"
      ],
      "metadata": {
        "colab": {
          "base_uri": "https://localhost:8080/"
        },
        "id": "9RuTeHAt5IwD",
        "outputId": "9722b93e-42b1-4e0c-c8a1-5f3884193a5e"
      },
      "execution_count": 15,
      "outputs": [
        {
          "output_type": "stream",
          "name": "stdout",
          "text": [
            "[0, 0, 0]\n",
            "[0, 0, 0]\n",
            "[0, 0, 0]\n",
            "[0, 0, 0]\n"
          ]
        }
      ]
    },
    {
      "cell_type": "markdown",
      "source": [
        "Warnings - list initialization"
      ],
      "metadata": {
        "id": "IGJPO-NB68Rh"
      }
    },
    {
      "cell_type": "code",
      "source": [
        "# Creating a list of zeros\n",
        "zerolist = [0 for i in range(3)]\n",
        "\n",
        "# Creating a 4x3 matrix (incorrect way)\n",
        "l = [zerolist for i in range(4)]  # All rows refer to the same zerolist\n",
        "\n",
        "# Modifying one element\n",
        "l[1][1] = 7\n",
        "\n",
        "# Printing the matrix\n",
        "print(l)\n"
      ],
      "metadata": {
        "colab": {
          "base_uri": "https://localhost:8080/"
        },
        "id": "Gjs09sb862hH",
        "outputId": "b038a33f-6ac6-4c17-b06a-ea35cbc0cd97"
      },
      "execution_count": 20,
      "outputs": [
        {
          "output_type": "stream",
          "name": "stdout",
          "text": [
            "[[0, 7, 0], [0, 7, 0], [0, 7, 0], [0, 7, 0]]\n"
          ]
        }
      ]
    },
    {
      "cell_type": "code",
      "source": [
        "# Creating a list of zeros\n",
        "zerolist = [0] * 3\n",
        "\n",
        "# Creating a 4x3 matrix (incorrect way)\n",
        "l = [zerolist] * 4  # All rows refer to the same zerolist\n",
        "\n",
        "# Modifying one element\n",
        "l[1][1] = 7  # This changes all rows\n",
        "\n",
        "# Printing the matrix\n",
        "for row in l:\n",
        "    print(row)\n"
      ],
      "metadata": {
        "colab": {
          "base_uri": "https://localhost:8080/"
        },
        "id": "MqhaFTYCaDqI",
        "outputId": "e902524d-a40e-4207-e9ad-19f11b2a79e1"
      },
      "execution_count": 21,
      "outputs": [
        {
          "output_type": "stream",
          "name": "stdout",
          "text": [
            "[0, 7, 0]\n",
            "[0, 7, 0]\n",
            "[0, 7, 0]\n",
            "[0, 7, 0]\n"
          ]
        }
      ]
    },
    {
      "cell_type": "code",
      "source": [],
      "metadata": {
        "id": "4WC5TeYSZzAp"
      },
      "execution_count": null,
      "outputs": []
    }
  ]
}