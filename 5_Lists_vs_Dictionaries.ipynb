{
  "nbformat": 4,
  "nbformat_minor": 0,
  "metadata": {
    "colab": {
      "provenance": []
    },
    "kernelspec": {
      "name": "python3",
      "display_name": "Python 3"
    },
    "language_info": {
      "name": "python"
    }
  },
  "cells": [
    {
      "cell_type": "markdown",
      "source": [
        "Slide 2"
      ],
      "metadata": {
        "id": "WTKTS5CiD1-k"
      }
    },
    {
      "cell_type": "code",
      "execution_count": 1,
      "metadata": {
        "colab": {
          "base_uri": "https://localhost:8080/"
        },
        "id": "sapXiBmpDaqq",
        "outputId": "4851cb23-9280-4441-f9ad-10249f4d0f8e"
      },
      "outputs": [
        {
          "output_type": "stream",
          "name": "stdout",
          "text": [
            "Age: 23\n",
            "Name: Kamal\n",
            "Primes: [2, 3, 5]\n"
          ]
        }
      ],
      "source": [
        "# Simultaneous assignments\n",
        "age, name, primes = (23, 'Kamal', [2, 3, 5])\n",
        "\n",
        "print(\"Age:\", age)\n",
        "print(\"Name:\", name)\n",
        "print(\"Primes:\", primes)\n"
      ]
    },
    {
      "cell_type": "code",
      "source": [
        "# Assigning tuples\n",
        "point = (3.5, 4.8)\n",
        "date = (16, 7, 2013)\n",
        "\n",
        "print(\"Point:\", point)\n",
        "print(\"Date:\", date)\n"
      ],
      "metadata": {
        "colab": {
          "base_uri": "https://localhost:8080/"
        },
        "id": "hwA4vmtQD5NK",
        "outputId": "7d3ba7a5-fe48-4409-a24c-da1c1aca2507"
      },
      "execution_count": 2,
      "outputs": [
        {
          "output_type": "stream",
          "name": "stdout",
          "text": [
            "Point: (3.5, 4.8)\n",
            "Date: (16, 7, 2013)\n"
          ]
        }
      ]
    },
    {
      "cell_type": "code",
      "source": [
        "# Extract positions, slices\n",
        "xcoordinate = point[0]  # Get first element\n",
        "monthyear = date[1:]    # Get elements from second to end\n",
        "\n",
        "print(\"X-coordinate:\", xcoordinate)\n",
        "print(\"Month and Year:\", monthyear)\n"
      ],
      "metadata": {
        "colab": {
          "base_uri": "https://localhost:8080/"
        },
        "id": "x4ysOYfBD9qN",
        "outputId": "11169a69-02ad-488a-ff2a-dbc898bf89e0"
      },
      "execution_count": 3,
      "outputs": [
        {
          "output_type": "stream",
          "name": "stdout",
          "text": [
            "X-coordinate: 3.5\n",
            "Month and Year: (7, 2013)\n"
          ]
        }
      ]
    },
    {
      "cell_type": "code",
      "source": [
        "# Tuples are immutable\n",
        "try:\n",
        "    date[1] = 8  # This will raise an error\n",
        "except TypeError as e:\n",
        "    print(\"Error:\", e)\n"
      ],
      "metadata": {
        "colab": {
          "base_uri": "https://localhost:8080/"
        },
        "id": "pqTjp3p6EAL-",
        "outputId": "485a3c75-1ff8-4ff2-bc32-db38762fbee4"
      },
      "execution_count": 4,
      "outputs": [
        {
          "output_type": "stream",
          "name": "stdout",
          "text": [
            "Error: 'tuple' object does not support item assignment\n"
          ]
        }
      ]
    },
    {
      "cell_type": "markdown",
      "source": [
        "Slide 4"
      ],
      "metadata": {
        "id": "pkNNeOwzEOb8"
      }
    },
    {
      "cell_type": "code",
      "source": [
        "# Example: Keys can be strings\n",
        "test1 = {}\n",
        "test1['Harry'] = 84\n",
        "test1['Messi'] = 16\n",
        "test1['Ronaldo'] = 200\n",
        "\n",
        "print(\"Harry's score:\", test1['Harry'])\n",
        "print(\"Messi's score:\", test1['Messi'])\n",
        "print(\"Ronaldo's score:\", test1['Ronaldo'])\n"
      ],
      "metadata": {
        "colab": {
          "base_uri": "https://localhost:8080/"
        },
        "id": "xdu009glEE6t",
        "outputId": "7cdd8e99-0b6c-4027-8bcb-86bdc2f40654"
      },
      "execution_count": 5,
      "outputs": [
        {
          "output_type": "stream",
          "name": "stdout",
          "text": [
            "Harry's score: 84\n",
            "Messi's score: 16\n",
            "Ronaldo's score: 200\n"
          ]
        }
      ]
    },
    {
      "cell_type": "code",
      "source": [
        "# Create an empty dictionary\n",
        "empty_dict = {}\n",
        "print(\"Empty dictionary:\", empty_dict)\n"
      ],
      "metadata": {
        "colab": {
          "base_uri": "https://localhost:8080/"
        },
        "id": "RmyBgvXqEVDv",
        "outputId": "67242ead-ad37-40b0-fb4d-08f5f4de8176"
      },
      "execution_count": 6,
      "outputs": [
        {
          "output_type": "stream",
          "name": "stdout",
          "text": [
            "Empty dictionary: {}\n"
          ]
        }
      ]
    },
    {
      "cell_type": "markdown",
      "source": [
        "Slide 5"
      ],
      "metadata": {
        "id": "4hRdMTtbE9xp"
      }
    },
    {
      "cell_type": "code",
      "source": [
        "# Nested dictionary\n",
        "score = {\n",
        "    'Test1': {'Dhawan': 84, 'Kohli': 200},\n",
        "    'Test2': {'Dhawan': 50}\n",
        "}\n",
        "\n",
        "# Accessing nested values\n",
        "print(\"Dhawan's score in Test1:\", score['Test1']['Dhawan'])\n",
        "print(\"Kohli's score in Test1:\", score['Test1']['Kohli'])\n",
        "print(\"Dhawan's score in Test2:\", score['Test2']['Dhawan'])\n"
      ],
      "metadata": {
        "colab": {
          "base_uri": "https://localhost:8080/"
        },
        "id": "H6TBhlNfEYNH",
        "outputId": "d55d97b2-08a1-4a65-ce86-62c8a57c0447"
      },
      "execution_count": 7,
      "outputs": [
        {
          "output_type": "stream",
          "name": "stdout",
          "text": [
            "Dhawan's score in Test1: 84\n",
            "Kohli's score in Test1: 200\n",
            "Dhawan's score in Test2: 50\n"
          ]
        }
      ]
    },
    {
      "cell_type": "markdown",
      "source": [
        "Slide 6"
      ],
      "metadata": {
        "id": "Ym_z6b8FEZdk"
      }
    },
    {
      "cell_type": "code",
      "source": [
        "# Example Dictionary\n",
        "d = {\n",
        "    'apple': 3,\n",
        "    'cherry': 2,\n",
        "    'banana': 5,\n",
        "\n",
        "}\n",
        "\n",
        "# 1. Retrieve keys using d.keys()\n",
        "keys = d.keys()\n",
        "print(\"Keys from d.keys():\", keys)\n",
        "\n",
        "# Convert keys to a list\n",
        "keys_list = list(keys)\n",
        "print(\"Keys as a List:\", keys_list)\n"
      ],
      "metadata": {
        "colab": {
          "base_uri": "https://localhost:8080/"
        },
        "id": "A3Om7WCyFHev",
        "outputId": "1fe3bd7c-9a2b-4c95-b870-7900d71498e6"
      },
      "execution_count": 13,
      "outputs": [
        {
          "output_type": "stream",
          "name": "stdout",
          "text": [
            "Keys from d.keys(): dict_keys(['apple', 'cherry', 'banana'])\n",
            "Keys as a List: ['apple', 'cherry', 'banana']\n"
          ]
        }
      ]
    },
    {
      "cell_type": "code",
      "source": [
        "# 2. Loop through keys (unordered)\n",
        "print(\"Unordered Key-Value Pairs:\")\n",
        "for k in d.keys():\n",
        "    print(f\"{k}: {d[k]}\")\n"
      ],
      "metadata": {
        "colab": {
          "base_uri": "https://localhost:8080/"
        },
        "id": "aaZzxSevFNYk",
        "outputId": "75c27077-adbf-4eb8-ed25-cec3f2ac2a96"
      },
      "execution_count": 14,
      "outputs": [
        {
          "output_type": "stream",
          "name": "stdout",
          "text": [
            "Unordered Key-Value Pairs:\n",
            "apple: 3\n",
            "cherry: 2\n",
            "banana: 5\n"
          ]
        }
      ]
    },
    {
      "cell_type": "code",
      "source": [
        "# 3. Loop through sorted keys (ordered)\n",
        "print(\"Ordered Key-Value Pairs:\")\n",
        "for k in sorted(d.keys()):\n",
        "    print(f\"{k}: {d[k]}\")\n"
      ],
      "metadata": {
        "colab": {
          "base_uri": "https://localhost:8080/"
        },
        "id": "--vqvmKxFTwP",
        "outputId": "81b8083b-3423-45b4-9dc5-c7f65c476126"
      },
      "execution_count": 15,
      "outputs": [
        {
          "output_type": "stream",
          "name": "stdout",
          "text": [
            "Ordered Key-Value Pairs:\n",
            "apple: 3\n",
            "banana: 5\n",
            "cherry: 2\n"
          ]
        }
      ]
    },
    {
      "cell_type": "code",
      "source": [
        "# 4. List conversion\n",
        "keys_as_list = list(d.keys())\n",
        "print(\"Keys as List:\", keys_as_list)\n",
        "\n",
        "# Sorted keys\n",
        "sorted_keys_as_list = sorted(d.keys())\n",
        "print(\"Sorted Keys as List:\", sorted_keys_as_list)\n"
      ],
      "metadata": {
        "colab": {
          "base_uri": "https://localhost:8080/"
        },
        "id": "UEAwR4mUFdWE",
        "outputId": "519effb4-21c7-42e9-e0ae-824ee7f75ce1"
      },
      "execution_count": 16,
      "outputs": [
        {
          "output_type": "stream",
          "name": "stdout",
          "text": [
            "Keys as List: ['apple', 'cherry', 'banana']\n",
            "Sorted Keys as List: ['apple', 'banana', 'cherry']\n"
          ]
        }
      ]
    },
    {
      "cell_type": "markdown",
      "source": [
        "Slide 7"
      ],
      "metadata": {
        "id": "TuYq1Ap4Fykr"
      }
    },
    {
      "cell_type": "code",
      "source": [
        "# Example dictionary\n",
        "test1 = {\n",
        "    'Harry': 84,\n",
        "    'Messi': 16,\n",
        "    'Ronaldo': 200\n",
        "}\n",
        "\n",
        "# Retrieve values and calculate total\n",
        "total = 0\n",
        "for s in test1.values():\n",
        "    total = total + s\n",
        "\n",
        "print(\"Total of all values:\", total)\n"
      ],
      "metadata": {
        "colab": {
          "base_uri": "https://localhost:8080/"
        },
        "id": "pchMNU4tFh6m",
        "outputId": "6492c44d-fe50-43d3-acc4-5a9e571fe67e"
      },
      "execution_count": 17,
      "outputs": [
        {
          "output_type": "stream",
          "name": "stdout",
          "text": [
            "Total of all values: 300\n"
          ]
        }
      ]
    },
    {
      "cell_type": "code",
      "source": [
        "# Test for key membership\n",
        "if 'Messi' in test1.keys():\n",
        "    print(\"Messi is in the dictionary.\")\n",
        "else:\n",
        "    print(\"Messi is not in the dictionary.\")\n"
      ],
      "metadata": {
        "colab": {
          "base_uri": "https://localhost:8080/"
        },
        "id": "AJxC7IJkF05u",
        "outputId": "b5e05674-837b-4c55-ff0c-f303c1d2cc39"
      },
      "execution_count": 18,
      "outputs": [
        {
          "output_type": "stream",
          "name": "stdout",
          "text": [
            "Messi is in the dictionary.\n"
          ]
        }
      ]
    },
    {
      "cell_type": "code",
      "source": [
        "# Simplified key membership check\n",
        "if 'Messi' in test1:\n",
        "    print(\"Messi is in the dictionary.\")\n",
        "else:\n",
        "    print(\"Messi is not in the dictionary.\")\n"
      ],
      "metadata": {
        "colab": {
          "base_uri": "https://localhost:8080/"
        },
        "id": "02g9Aa56F4qm",
        "outputId": "fe8a2d01-4365-473b-89a9-0d18952cdb16"
      },
      "execution_count": 19,
      "outputs": [
        {
          "output_type": "stream",
          "name": "stdout",
          "text": [
            "Messi is in the dictionary.\n"
          ]
        }
      ]
    },
    {
      "cell_type": "markdown",
      "source": [
        "Slide 8"
      ],
      "metadata": {
        "id": "glfJ4AUfGCje"
      }
    },
    {
      "cell_type": "code",
      "source": [
        "# Create an empty dictionary\n",
        "d = {}\n",
        "\n",
        "# Insert value for key 0\n",
        "d[0] = 7  # No problem\n",
        "\n",
        "print(\"Dictionary:\", d)\n"
      ],
      "metadata": {
        "colab": {
          "base_uri": "https://localhost:8080/"
        },
        "id": "J6yrPJ7dF6ud",
        "outputId": "46eff46f-ac7e-45f1-c29c-e3134bca059a"
      },
      "execution_count": 20,
      "outputs": [
        {
          "output_type": "stream",
          "name": "stdout",
          "text": [
            "Dictionary: {0: 7}\n"
          ]
        }
      ]
    },
    {
      "cell_type": "code",
      "source": [
        "# Create an empty list\n",
        "l = []\n",
        "\n",
        "# Try inserting value at index 0 directly\n",
        "try:\n",
        "    l[0] = 7  # IndexError\n",
        "except IndexError as e:\n",
        "    print(\"Error:\", e)\n"
      ],
      "metadata": {
        "colab": {
          "base_uri": "https://localhost:8080/"
        },
        "id": "Ze_53irOGEof",
        "outputId": "bd54220c-c51b-4e14-b96e-3a0329989f2c"
      },
      "execution_count": 21,
      "outputs": [
        {
          "output_type": "stream",
          "name": "stdout",
          "text": [
            "Error: list assignment index out of range\n"
          ]
        }
      ]
    }
  ]
}