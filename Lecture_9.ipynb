{
  "nbformat": 4,
  "nbformat_minor": 0,
  "metadata": {
    "colab": {
      "provenance": []
    },
    "kernelspec": {
      "name": "python3",
      "display_name": "Python 3"
    },
    "language_info": {
      "name": "python"
    }
  },
  "cells": [
    {
      "cell_type": "code",
      "execution_count": 1,
      "metadata": {
        "colab": {
          "base_uri": "https://localhost:8080/"
        },
        "id": "QP5XdeJKuHwf",
        "outputId": "37efc1de-5fa4-4ca9-b122-e4284ce77f37"
      },
      "outputs": [
        {
          "output_type": "stream",
          "name": "stdout",
          "text": [
            "Using while loop: 2\n",
            "Using improved while loop: 2\n",
            "Using for loop: 2\n",
            "Using for loop with range: 2\n",
            "Using for loop with else: 2\n"
          ]
        }
      ],
      "source": [
        "# Function 1: Using a while loop\n",
        "def findpos_while(l, v):\n",
        "    (found, i) = (False, 0)\n",
        "    while i < len(l):\n",
        "        if l[i] == v:\n",
        "            (found, pos) = (True, i)\n",
        "            break\n",
        "        i += 1\n",
        "    if not found:\n",
        "        pos = -1\n",
        "    return pos\n",
        "\n",
        "# Function 2: Improved while loop\n",
        "def findpos_while_improved(l, v):\n",
        "    (found, i) = (False, 0)\n",
        "    while i < len(l):\n",
        "        if not found and l[i] == v:\n",
        "            (found, pos) = (True, i)\n",
        "            break\n",
        "        i += 1\n",
        "    if not found:\n",
        "        pos = -1\n",
        "    return pos\n",
        "\n",
        "# Function 3: Using for loop\n",
        "def findpos_for(l, v):\n",
        "    pos, i = -1, 0\n",
        "    for x in l:\n",
        "        if x == v:\n",
        "            pos = i\n",
        "            break\n",
        "        i += 1\n",
        "    return pos\n",
        "\n",
        "# Function 4: Using range(len(l)) in for loop\n",
        "def findpos_for_range(l, v):\n",
        "    pos = -1\n",
        "    for i in range(len(l)):\n",
        "        if l[i] == v:\n",
        "            pos = i\n",
        "            break\n",
        "    return pos\n",
        "\n",
        "# Function 5: Using for loop with else clause\n",
        "def findpos_for_else(l, v):\n",
        "    for i in range(len(l)):\n",
        "        if l[i] == v:\n",
        "            pos = i\n",
        "            break\n",
        "    else:\n",
        "        pos = -1  # If loop completes without finding v\n",
        "    return pos\n",
        "\n",
        "# Testing the functions\n",
        "test_list = [10, 20, 30, 40, 50]\n",
        "search_value = 30\n",
        "\n",
        "print(\"Using while loop:\", findpos_while(test_list, search_value))\n",
        "print(\"Using improved while loop:\", findpos_while_improved(test_list, search_value))\n",
        "print(\"Using for loop:\", findpos_for(test_list, search_value))\n",
        "print(\"Using for loop with range:\", findpos_for_range(test_list, search_value))\n",
        "print(\"Using for loop with else:\", findpos_for_else(test_list, search_value))\n"
      ]
    },
    {
      "cell_type": "code",
      "source": [],
      "metadata": {
        "id": "Mv18eu-Qu_CV"
      },
      "execution_count": null,
      "outputs": []
    }
  ]
}